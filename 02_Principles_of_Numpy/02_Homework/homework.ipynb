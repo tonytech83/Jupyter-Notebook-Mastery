{
 "cells": [
  {
   "cell_type": "markdown",
   "source": [
    "# Principles of NumPy – Homework"
   ],
   "metadata": {
    "collapsed": false
   },
   "id": "5fa1adaba7cdfb27"
  },
  {
   "cell_type": "markdown",
   "source": [
    "### 1. Null Array"
   ],
   "metadata": {
    "collapsed": false
   },
   "id": "217e111e5cfb6cc8"
  },
  {
   "cell_type": "markdown",
   "source": [
    "•\tRead as input an integer N\n",
    "•\tPrint a null array (consisting of zeros only) of length N"
   ],
   "metadata": {
    "collapsed": false
   },
   "id": "fffc27d8cabd859f"
  },
  {
   "cell_type": "code",
   "execution_count": 1,
   "outputs": [],
   "source": [
    "import numpy as np"
   ],
   "metadata": {
    "collapsed": false,
    "ExecuteTime": {
     "end_time": "2023-12-26T09:19:57.435605800Z",
     "start_time": "2023-12-26T09:19:57.326660200Z"
    }
   },
   "id": "cf5290fc6bd637b"
  },
  {
   "cell_type": "code",
   "execution_count": 2,
   "outputs": [
    {
     "name": "stdout",
     "output_type": "stream",
     "text": [
      "[0.]\n"
     ]
    }
   ],
   "source": [
    "n = int(input())\n",
    "\n",
    "null_array = np.zeros(n)\n",
    "print(null_array)"
   ],
   "metadata": {
    "collapsed": false,
    "ExecuteTime": {
     "end_time": "2023-12-26T09:20:00.469198500Z",
     "start_time": "2023-12-26T09:19:57.435605800Z"
    }
   },
   "id": "bf40048f23f4ffe3"
  },
  {
   "cell_type": "code",
   "execution_count": 2,
   "outputs": [],
   "source": [
    "\n",
    "\n"
   ],
   "metadata": {
    "collapsed": false,
    "ExecuteTime": {
     "end_time": "2023-12-26T09:20:00.469198500Z",
     "start_time": "2023-12-26T09:20:00.400730800Z"
    }
   },
   "id": "2dd8d610d7943bd3"
  },
  {
   "cell_type": "markdown",
   "source": [
    "## 2. Consecutive Array"
   ],
   "metadata": {
    "collapsed": false
   },
   "id": "3f95d6682f0ffb81"
  },
  {
   "cell_type": "markdown",
   "source": [
    "Write a program using NumPy that:\n",
    "•\tRead as input **two integers** – **start number** and **end number**\n",
    "•\tPrint an array ranging from start number to end number **inclusive**\n"
   ],
   "metadata": {
    "collapsed": false
   },
   "id": "591f7f74bcfba2c1"
  },
  {
   "cell_type": "code",
   "execution_count": 3,
   "outputs": [
    {
     "name": "stdout",
     "output_type": "stream",
     "text": [
      "[1 2]\n"
     ]
    }
   ],
   "source": [
    "start_number = int(input())\n",
    "end_number = int(input())\n",
    "\n",
    "arr = np.arange(start_number, end_number + 1)\n",
    "print(arr)"
   ],
   "metadata": {
    "collapsed": false,
    "ExecuteTime": {
     "end_time": "2023-12-26T09:20:03.317007800Z",
     "start_time": "2023-12-26T09:20:00.403652100Z"
    }
   },
   "id": "bb49463f70c60092"
  },
  {
   "cell_type": "markdown",
   "source": [
    "## 3. Identity Matrix"
   ],
   "metadata": {
    "collapsed": false
   },
   "id": "7718ded26da43d0b"
  },
  {
   "cell_type": "markdown",
   "source": [
    "Write a program using NumPy that:\n",
    "•\tRead an integer number N \n",
    "•\tPrint an identity matrix of size N\n"
   ],
   "metadata": {
    "collapsed": false
   },
   "id": "16df122a57cdbb80"
  },
  {
   "cell_type": "code",
   "execution_count": 4,
   "outputs": [
    {
     "name": "stdout",
     "output_type": "stream",
     "text": [
      "[[1. 0. 0.]\n",
      " [0. 1. 0.]\n",
      " [0. 0. 1.]]\n"
     ]
    }
   ],
   "source": [
    "n = int(input())\n",
    "\n",
    "identity_matrix = np.eye(n)\n",
    "print(identity_matrix)\n"
   ],
   "metadata": {
    "collapsed": false,
    "ExecuteTime": {
     "end_time": "2023-12-26T09:20:04.099141800Z",
     "start_time": "2023-12-26T09:20:03.301158100Z"
    }
   },
   "id": "d90be8d6bff16b97"
  },
  {
   "cell_type": "markdown",
   "source": [
    "## 4. Evenly Spaced Array"
   ],
   "metadata": {
    "collapsed": false
   },
   "id": "1e245cd43e12cf49"
  },
  {
   "cell_type": "markdown",
   "source": [
    "Write a program using NumPy that:\n",
    "•\tRead  three integers – start, stop, and N\n",
    "•\tPrints an array of N with evenly spaced numbers between start and stop\n"
   ],
   "metadata": {
    "collapsed": false
   },
   "id": "23d0c9bbc10f1314"
  },
  {
   "cell_type": "code",
   "execution_count": 5,
   "outputs": [
    {
     "name": "stdout",
     "output_type": "stream",
     "text": [
      "[4.  4.2 4.4 4.6 4.8 5. ]\n"
     ]
    }
   ],
   "source": [
    "start = int(input())\n",
    "end = int(input())\n",
    "n = int(input())\n",
    "\n",
    "spaced_array = np.linspace(start, end, n)\n",
    "print(spaced_array)"
   ],
   "metadata": {
    "collapsed": false,
    "ExecuteTime": {
     "end_time": "2023-12-26T09:20:06.812831100Z",
     "start_time": "2023-12-26T09:20:04.006916Z"
    }
   },
   "id": "73e1e263a7631619"
  },
  {
   "cell_type": "code",
   "execution_count": 5,
   "outputs": [],
   "source": [],
   "metadata": {
    "collapsed": false,
    "ExecuteTime": {
     "end_time": "2023-12-26T09:20:06.812831100Z",
     "start_time": "2023-12-26T09:20:06.805318200Z"
    }
   },
   "id": "a418ed419ca6ee90"
  }
 ],
 "metadata": {
  "kernelspec": {
   "display_name": "Python 3",
   "language": "python",
   "name": "python3"
  },
  "language_info": {
   "codemirror_mode": {
    "name": "ipython",
    "version": 2
   },
   "file_extension": ".py",
   "mimetype": "text/x-python",
   "name": "python",
   "nbconvert_exporter": "python",
   "pygments_lexer": "ipython2",
   "version": "2.7.6"
  }
 },
 "nbformat": 4,
 "nbformat_minor": 5
}

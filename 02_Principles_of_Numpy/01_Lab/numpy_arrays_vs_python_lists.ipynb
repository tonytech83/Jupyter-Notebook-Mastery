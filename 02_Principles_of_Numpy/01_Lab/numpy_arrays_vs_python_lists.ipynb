{
 "cells": [
  {
   "cell_type": "markdown",
   "source": [
    "# NumPy arrays VS Python lists"
   ],
   "metadata": {
    "collapsed": false
   },
   "id": "43a873f15927fc88"
  },
  {
   "cell_type": "markdown",
   "source": [
    "## Python List"
   ],
   "metadata": {
    "collapsed": false
   },
   "id": "632cd88e11465599"
  },
  {
   "cell_type": "code",
   "execution_count": 1,
   "outputs": [
    {
     "name": "stdout",
     "output_type": "stream",
     "text": [
      "[30, 40, 50]\n"
     ]
    }
   ],
   "source": [
    "my_list = [3, 4, 5]\n",
    "new_list = []\n",
    "\n",
    "for val in my_list:\n",
    "    new_list.append(val * 10)\n",
    "\n",
    "print(new_list)"
   ],
   "metadata": {
    "collapsed": false,
    "ExecuteTime": {
     "end_time": "2023-12-22T13:53:42.668889900Z",
     "start_time": "2023-12-22T13:53:42.652916900Z"
    }
   },
   "id": "ae077693ee533833"
  },
  {
   "cell_type": "markdown",
   "source": [
    "## NumPy Array"
   ],
   "metadata": {
    "collapsed": false
   },
   "id": "9838409610e40b55"
  },
  {
   "cell_type": "code",
   "execution_count": 3,
   "outputs": [],
   "source": [
    "import numpy as np"
   ],
   "metadata": {
    "collapsed": false,
    "ExecuteTime": {
     "end_time": "2023-12-22T13:55:24.200750600Z",
     "start_time": "2023-12-22T13:55:24.016101200Z"
    }
   },
   "id": "fc39f38e64bbae85"
  },
  {
   "cell_type": "code",
   "execution_count": 4,
   "outputs": [
    {
     "name": "stdout",
     "output_type": "stream",
     "text": [
      "[30 40 50]\n"
     ]
    }
   ],
   "source": [
    "np_array = np.array([3, 4, 5])\n",
    "new_array = np_array * 10\n",
    "\n",
    "print(new_array)"
   ],
   "metadata": {
    "collapsed": false,
    "ExecuteTime": {
     "end_time": "2023-12-22T13:55:27.585411Z",
     "start_time": "2023-12-22T13:55:27.578592900Z"
    }
   },
   "id": "5c43adc58c2a4b28"
  },
  {
   "cell_type": "code",
   "execution_count": null,
   "outputs": [],
   "source": [],
   "metadata": {
    "collapsed": false
   },
   "id": "f535f18b78174a00"
  }
 ],
 "metadata": {
  "kernelspec": {
   "display_name": "Python 3",
   "language": "python",
   "name": "python3"
  },
  "language_info": {
   "codemirror_mode": {
    "name": "ipython",
    "version": 2
   },
   "file_extension": ".py",
   "mimetype": "text/x-python",
   "name": "python",
   "nbconvert_exporter": "python",
   "pygments_lexer": "ipython2",
   "version": "2.7.6"
  }
 },
 "nbformat": 4,
 "nbformat_minor": 5
}

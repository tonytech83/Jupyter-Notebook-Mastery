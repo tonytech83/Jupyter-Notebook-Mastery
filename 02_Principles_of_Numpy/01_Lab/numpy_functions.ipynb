{
 "cells": [
  {
   "cell_type": "code",
   "execution_count": 1,
   "id": "initial_id",
   "metadata": {
    "collapsed": true,
    "ExecuteTime": {
     "end_time": "2023-12-22T14:13:55.107966900Z",
     "start_time": "2023-12-22T14:13:55.023810500Z"
    }
   },
   "outputs": [],
   "source": [
    "import numpy as np"
   ]
  },
  {
   "cell_type": "markdown",
   "source": [
    "## The basics"
   ],
   "metadata": {
    "collapsed": false
   },
   "id": "4e5d6c051a7a93c7"
  },
  {
   "cell_type": "markdown",
   "source": [
    "#### One dimensional array"
   ],
   "metadata": {
    "collapsed": false
   },
   "id": "eeb7dcd83d9a9f89"
  },
  {
   "cell_type": "code",
   "execution_count": 4,
   "outputs": [
    {
     "data": {
      "text/plain": "array([1, 2, 3, 4], dtype=int8)"
     },
     "execution_count": 4,
     "metadata": {},
     "output_type": "execute_result"
    }
   ],
   "source": [
    "oned_array = np.array([1, 2, 3, 4], dtype='int8')\n",
    "oned_array"
   ],
   "metadata": {
    "collapsed": false,
    "ExecuteTime": {
     "end_time": "2023-12-22T14:15:31.529714900Z",
     "start_time": "2023-12-22T14:15:31.513596700Z"
    }
   },
   "id": "8552e395105a1010"
  },
  {
   "cell_type": "code",
   "execution_count": 3,
   "outputs": [
    {
     "data": {
      "text/plain": "[2, 3, 4]"
     },
     "execution_count": 3,
     "metadata": {},
     "output_type": "execute_result"
    }
   ],
   "source": [
    "lst = [2, 3, 4]\n",
    "lst"
   ],
   "metadata": {
    "collapsed": false,
    "ExecuteTime": {
     "end_time": "2023-12-22T14:15:23.356134Z",
     "start_time": "2023-12-22T14:15:23.336467500Z"
    }
   },
   "id": "877e15f7ed81212e"
  },
  {
   "cell_type": "markdown",
   "source": [
    "#### Two dimensional array"
   ],
   "metadata": {
    "collapsed": false
   },
   "id": "e11d05f2a1d039a0"
  },
  {
   "cell_type": "code",
   "execution_count": 5,
   "outputs": [
    {
     "data": {
      "text/plain": "array([[3, 4, 5],\n       [9, 8, 7]])"
     },
     "execution_count": 5,
     "metadata": {},
     "output_type": "execute_result"
    }
   ],
   "source": [
    "twod_array = np.array([[3, 4, 5], [9, 8, 7]])\n",
    "twod_array"
   ],
   "metadata": {
    "collapsed": false,
    "ExecuteTime": {
     "end_time": "2023-12-22T14:17:17.169916700Z",
     "start_time": "2023-12-22T14:17:17.165771500Z"
    }
   },
   "id": "4051cfa833c06a69"
  },
  {
   "cell_type": "markdown",
   "source": [
    "#### <span style=\"color:orange;\">ndim</span> - Checks how many dimensional is our array "
   ],
   "metadata": {
    "collapsed": false
   },
   "id": "b0b39c366b8e1e7e"
  },
  {
   "cell_type": "code",
   "execution_count": 6,
   "outputs": [
    {
     "data": {
      "text/plain": "1"
     },
     "execution_count": 6,
     "metadata": {},
     "output_type": "execute_result"
    }
   ],
   "source": [
    "oned_array.ndim"
   ],
   "metadata": {
    "collapsed": false,
    "ExecuteTime": {
     "end_time": "2023-12-22T14:34:38.049693700Z",
     "start_time": "2023-12-22T14:34:38.033426900Z"
    }
   },
   "id": "c2909d2ec722fb5e"
  },
  {
   "cell_type": "code",
   "execution_count": 7,
   "outputs": [
    {
     "data": {
      "text/plain": "2"
     },
     "execution_count": 7,
     "metadata": {},
     "output_type": "execute_result"
    }
   ],
   "source": [
    "twod_array.ndim"
   ],
   "metadata": {
    "collapsed": false,
    "ExecuteTime": {
     "end_time": "2023-12-22T14:34:43.896316600Z",
     "start_time": "2023-12-22T14:34:43.880221100Z"
    }
   },
   "id": "ad798ea6d18d16f3"
  },
  {
   "cell_type": "markdown",
   "source": [
    "#### <span style=\"color:orange;\">shape</span> - Returns shape of n-dimensional array. In 2 or more dimensional array we have (rows, cols)"
   ],
   "metadata": {
    "collapsed": false
   },
   "id": "109c3154f83264e3"
  },
  {
   "cell_type": "code",
   "execution_count": 8,
   "outputs": [
    {
     "data": {
      "text/plain": "(4,)"
     },
     "execution_count": 8,
     "metadata": {},
     "output_type": "execute_result"
    }
   ],
   "source": [
    "oned_array.shape"
   ],
   "metadata": {
    "collapsed": false,
    "ExecuteTime": {
     "end_time": "2023-12-22T14:40:56.588589100Z",
     "start_time": "2023-12-22T14:40:56.585336700Z"
    }
   },
   "id": "169ef15346616210"
  },
  {
   "cell_type": "code",
   "execution_count": 9,
   "outputs": [
    {
     "data": {
      "text/plain": "(2, 3)"
     },
     "execution_count": 9,
     "metadata": {},
     "output_type": "execute_result"
    }
   ],
   "source": [
    "twod_array.shape"
   ],
   "metadata": {
    "collapsed": false,
    "ExecuteTime": {
     "end_time": "2023-12-22T14:41:04.979014200Z",
     "start_time": "2023-12-22T14:41:04.973650600Z"
    }
   },
   "id": "86ea46e7b7a9cb50"
  },
  {
   "cell_type": "markdown",
   "source": [
    "#### <span style=\"color:orange;\">dtype</span> - Returns the type of elements in array"
   ],
   "metadata": {
    "collapsed": false
   },
   "id": "7453e86276f8dc38"
  },
  {
   "cell_type": "code",
   "execution_count": 10,
   "outputs": [
    {
     "data": {
      "text/plain": "dtype('int8')"
     },
     "execution_count": 10,
     "metadata": {},
     "output_type": "execute_result"
    }
   ],
   "source": [
    "oned_array.dtype"
   ],
   "metadata": {
    "collapsed": false,
    "ExecuteTime": {
     "end_time": "2023-12-22T14:42:23.001702700Z",
     "start_time": "2023-12-22T14:42:22.985916900Z"
    }
   },
   "id": "249235b74a00e198"
  },
  {
   "cell_type": "markdown",
   "source": [
    "#### <span style=\"color:orange;\">itemsize</span> - Returns the size of an item in bytes\n",
    "- int8 - 1 byte\n",
    "- int64 - 8 bytes"
   ],
   "metadata": {
    "collapsed": false
   },
   "id": "36d7b76bc0c91cdc"
  },
  {
   "cell_type": "code",
   "execution_count": 11,
   "outputs": [
    {
     "data": {
      "text/plain": "1"
     },
     "execution_count": 11,
     "metadata": {},
     "output_type": "execute_result"
    }
   ],
   "source": [
    "oned_array.itemsize"
   ],
   "metadata": {
    "collapsed": false,
    "ExecuteTime": {
     "end_time": "2023-12-22T14:47:14.319973600Z",
     "start_time": "2023-12-22T14:47:14.312458300Z"
    }
   },
   "id": "32f410360930e6e6"
  },
  {
   "cell_type": "markdown",
   "source": [
    "#### <span style=\"color:orange;\">nbytes</span> - Returns the size of the whole array in bytes"
   ],
   "metadata": {
    "collapsed": false
   },
   "id": "d68d557908d12a22"
  },
  {
   "cell_type": "code",
   "execution_count": 12,
   "outputs": [
    {
     "data": {
      "text/plain": "4"
     },
     "execution_count": 12,
     "metadata": {},
     "output_type": "execute_result"
    }
   ],
   "source": [
    "oned_array.nbytes"
   ],
   "metadata": {
    "collapsed": false,
    "ExecuteTime": {
     "end_time": "2023-12-22T14:47:54.005431900Z",
     "start_time": "2023-12-22T14:47:54.003552300Z"
    }
   },
   "id": "fded40bff15b5587"
  },
  {
   "cell_type": "markdown",
   "source": [
    "#### <span style=\"color:orange;\">size</span> - Returns the length of array"
   ],
   "metadata": {
    "collapsed": false
   },
   "id": "8012cdc6f7897e0c"
  },
  {
   "cell_type": "code",
   "execution_count": 13,
   "outputs": [
    {
     "data": {
      "text/plain": "4"
     },
     "execution_count": 13,
     "metadata": {},
     "output_type": "execute_result"
    }
   ],
   "source": [
    "oned_array.size"
   ],
   "metadata": {
    "collapsed": false,
    "ExecuteTime": {
     "end_time": "2023-12-22T15:02:14.589482900Z",
     "start_time": "2023-12-22T15:02:14.581983Z"
    }
   },
   "id": "923a5c0f36a79d9"
  },
  {
   "cell_type": "markdown",
   "source": [
    "## Accessing arrays"
   ],
   "metadata": {
    "collapsed": false
   },
   "id": "58d8d9200435a8ae"
  },
  {
   "cell_type": "code",
   "execution_count": 15,
   "outputs": [
    {
     "data": {
      "text/plain": "array([7, 4])"
     },
     "execution_count": 15,
     "metadata": {},
     "output_type": "execute_result"
    }
   ],
   "source": [
    "arr = np.array([2, 7, 9, 4, 4, 6])\n",
    "\n",
    "# arr[start:stop:step]\n",
    "arr[1:4:2]"
   ],
   "metadata": {
    "collapsed": false,
    "ExecuteTime": {
     "end_time": "2023-12-22T15:07:35.084326Z",
     "start_time": "2023-12-22T15:07:35.071303800Z"
    }
   },
   "id": "9665f11e44374b4f"
  },
  {
   "cell_type": "code",
   "execution_count": null,
   "outputs": [],
   "source": [],
   "metadata": {
    "collapsed": false
   },
   "id": "b343dcbf37b5babe"
  }
 ],
 "metadata": {
  "kernelspec": {
   "display_name": "Python 3",
   "language": "python",
   "name": "python3"
  },
  "language_info": {
   "codemirror_mode": {
    "name": "ipython",
    "version": 2
   },
   "file_extension": ".py",
   "mimetype": "text/x-python",
   "name": "python",
   "nbconvert_exporter": "python",
   "pygments_lexer": "ipython2",
   "version": "2.7.6"
  }
 },
 "nbformat": 4,
 "nbformat_minor": 5
}

{
 "cells": [
  {
   "cell_type": "code",
   "execution_count": 2,
   "id": "initial_id",
   "metadata": {
    "collapsed": true,
    "ExecuteTime": {
     "end_time": "2023-12-26T06:30:19.756156400Z",
     "start_time": "2023-12-26T06:30:19.144501900Z"
    }
   },
   "outputs": [],
   "source": [
    "import numpy as np"
   ]
  },
  {
   "cell_type": "markdown",
   "source": [
    "## The basics"
   ],
   "metadata": {
    "collapsed": false
   },
   "id": "4e5d6c051a7a93c7"
  },
  {
   "cell_type": "markdown",
   "source": [
    "Shift + Tab - Open function documentation "
   ],
   "metadata": {
    "collapsed": false
   },
   "id": "509bb9f37c44424f"
  },
  {
   "cell_type": "markdown",
   "source": [
    "#### One dimensional array"
   ],
   "metadata": {
    "collapsed": false
   },
   "id": "eeb7dcd83d9a9f89"
  },
  {
   "cell_type": "code",
   "execution_count": 3,
   "outputs": [
    {
     "data": {
      "text/plain": "array([1, 2, 3, 4], dtype=int8)"
     },
     "execution_count": 3,
     "metadata": {},
     "output_type": "execute_result"
    }
   ],
   "source": [
    "oned_array = np.array([1, 2, 3, 4], dtype='int8')\n",
    "oned_array"
   ],
   "metadata": {
    "collapsed": false,
    "ExecuteTime": {
     "end_time": "2023-12-26T06:30:19.783798900Z",
     "start_time": "2023-12-26T06:30:19.757771300Z"
    }
   },
   "id": "8552e395105a1010"
  },
  {
   "cell_type": "code",
   "execution_count": 4,
   "outputs": [
    {
     "data": {
      "text/plain": "[2, 3, 4]"
     },
     "execution_count": 4,
     "metadata": {},
     "output_type": "execute_result"
    }
   ],
   "source": [
    "lst = [2, 3, 4]\n",
    "lst"
   ],
   "metadata": {
    "collapsed": false,
    "ExecuteTime": {
     "end_time": "2023-12-26T06:30:19.783798900Z",
     "start_time": "2023-12-26T06:30:19.768081900Z"
    }
   },
   "id": "877e15f7ed81212e"
  },
  {
   "cell_type": "markdown",
   "source": [
    "#### Two dimensional array"
   ],
   "metadata": {
    "collapsed": false
   },
   "id": "e11d05f2a1d039a0"
  },
  {
   "cell_type": "code",
   "execution_count": 5,
   "outputs": [
    {
     "data": {
      "text/plain": "array([[3, 4, 5],\n       [9, 8, 7]])"
     },
     "execution_count": 5,
     "metadata": {},
     "output_type": "execute_result"
    }
   ],
   "source": [
    "twod_array = np.array([[3, 4, 5], [9, 8, 7]])\n",
    "twod_array"
   ],
   "metadata": {
    "collapsed": false,
    "ExecuteTime": {
     "end_time": "2023-12-26T06:30:19.784807500Z",
     "start_time": "2023-12-26T06:30:19.773522Z"
    }
   },
   "id": "4051cfa833c06a69"
  },
  {
   "cell_type": "markdown",
   "source": [
    "#### <span style=\"color:orange;\">ndim</span> - Checks how many dimensional is our array "
   ],
   "metadata": {
    "collapsed": false
   },
   "id": "b0b39c366b8e1e7e"
  },
  {
   "cell_type": "code",
   "execution_count": 6,
   "outputs": [
    {
     "data": {
      "text/plain": "1"
     },
     "execution_count": 6,
     "metadata": {},
     "output_type": "execute_result"
    }
   ],
   "source": [
    "oned_array.ndim"
   ],
   "metadata": {
    "collapsed": false,
    "ExecuteTime": {
     "end_time": "2023-12-26T06:30:19.788369Z",
     "start_time": "2023-12-26T06:30:19.781823800Z"
    }
   },
   "id": "c2909d2ec722fb5e"
  },
  {
   "cell_type": "code",
   "execution_count": 7,
   "outputs": [
    {
     "data": {
      "text/plain": "2"
     },
     "execution_count": 7,
     "metadata": {},
     "output_type": "execute_result"
    }
   ],
   "source": [
    "twod_array.ndim"
   ],
   "metadata": {
    "collapsed": false,
    "ExecuteTime": {
     "end_time": "2023-12-26T06:30:19.906005700Z",
     "start_time": "2023-12-26T06:30:19.786804900Z"
    }
   },
   "id": "ad798ea6d18d16f3"
  },
  {
   "cell_type": "markdown",
   "source": [
    "#### <span style=\"color:orange;\">shape</span> - Returns shape of n-dimensional array. In 2 or more dimensional array we have (rows, cols)"
   ],
   "metadata": {
    "collapsed": false
   },
   "id": "109c3154f83264e3"
  },
  {
   "cell_type": "code",
   "execution_count": 8,
   "outputs": [
    {
     "data": {
      "text/plain": "(4,)"
     },
     "execution_count": 8,
     "metadata": {},
     "output_type": "execute_result"
    }
   ],
   "source": [
    "oned_array.shape"
   ],
   "metadata": {
    "collapsed": false,
    "ExecuteTime": {
     "end_time": "2023-12-26T06:30:19.948502200Z",
     "start_time": "2023-12-26T06:30:19.794038600Z"
    }
   },
   "id": "169ef15346616210"
  },
  {
   "cell_type": "code",
   "execution_count": 9,
   "outputs": [
    {
     "data": {
      "text/plain": "(2, 3)"
     },
     "execution_count": 9,
     "metadata": {},
     "output_type": "execute_result"
    }
   ],
   "source": [
    "twod_array.shape"
   ],
   "metadata": {
    "collapsed": false,
    "ExecuteTime": {
     "end_time": "2023-12-26T06:30:19.949498200Z",
     "start_time": "2023-12-26T06:30:19.800355900Z"
    }
   },
   "id": "86ea46e7b7a9cb50"
  },
  {
   "cell_type": "markdown",
   "source": [
    "#### <span style=\"color:orange;\">dtype</span> - Returns the type of elements in array"
   ],
   "metadata": {
    "collapsed": false
   },
   "id": "7453e86276f8dc38"
  },
  {
   "cell_type": "code",
   "execution_count": 10,
   "outputs": [
    {
     "data": {
      "text/plain": "dtype('int8')"
     },
     "execution_count": 10,
     "metadata": {},
     "output_type": "execute_result"
    }
   ],
   "source": [
    "oned_array.dtype"
   ],
   "metadata": {
    "collapsed": false,
    "ExecuteTime": {
     "end_time": "2023-12-26T06:30:19.950494200Z",
     "start_time": "2023-12-26T06:30:19.807242500Z"
    }
   },
   "id": "249235b74a00e198"
  },
  {
   "cell_type": "markdown",
   "source": [
    "#### <span style=\"color:orange;\">itemsize</span> - Returns the size of an item in bytes\n",
    "- int8 - 1 byte\n",
    "- int64 - 8 bytes"
   ],
   "metadata": {
    "collapsed": false
   },
   "id": "36d7b76bc0c91cdc"
  },
  {
   "cell_type": "code",
   "execution_count": 11,
   "outputs": [
    {
     "data": {
      "text/plain": "1"
     },
     "execution_count": 11,
     "metadata": {},
     "output_type": "execute_result"
    }
   ],
   "source": [
    "oned_array.itemsize"
   ],
   "metadata": {
    "collapsed": false,
    "ExecuteTime": {
     "end_time": "2023-12-26T06:30:19.950494200Z",
     "start_time": "2023-12-26T06:30:19.813309100Z"
    }
   },
   "id": "32f410360930e6e6"
  },
  {
   "cell_type": "markdown",
   "source": [
    "#### <span style=\"color:orange;\">nbytes</span> - Returns the size of the whole array in bytes"
   ],
   "metadata": {
    "collapsed": false
   },
   "id": "d68d557908d12a22"
  },
  {
   "cell_type": "code",
   "execution_count": 12,
   "outputs": [
    {
     "data": {
      "text/plain": "4"
     },
     "execution_count": 12,
     "metadata": {},
     "output_type": "execute_result"
    }
   ],
   "source": [
    "oned_array.nbytes"
   ],
   "metadata": {
    "collapsed": false,
    "ExecuteTime": {
     "end_time": "2023-12-26T06:30:19.951492700Z",
     "start_time": "2023-12-26T06:30:19.820799300Z"
    }
   },
   "id": "fded40bff15b5587"
  },
  {
   "cell_type": "markdown",
   "source": [
    "#### <span style=\"color:orange;\">size</span> - Returns the length of array"
   ],
   "metadata": {
    "collapsed": false
   },
   "id": "8012cdc6f7897e0c"
  },
  {
   "cell_type": "code",
   "execution_count": 13,
   "outputs": [
    {
     "data": {
      "text/plain": "4"
     },
     "execution_count": 13,
     "metadata": {},
     "output_type": "execute_result"
    }
   ],
   "source": [
    "oned_array.size"
   ],
   "metadata": {
    "collapsed": false,
    "ExecuteTime": {
     "end_time": "2023-12-26T06:30:19.951492700Z",
     "start_time": "2023-12-26T06:30:19.825130100Z"
    }
   },
   "id": "923a5c0f36a79d9"
  },
  {
   "cell_type": "markdown",
   "source": [
    "## Accessing arrays"
   ],
   "metadata": {
    "collapsed": false
   },
   "id": "58d8d9200435a8ae"
  },
  {
   "cell_type": "code",
   "execution_count": 14,
   "outputs": [
    {
     "data": {
      "text/plain": "array([7, 4])"
     },
     "execution_count": 14,
     "metadata": {},
     "output_type": "execute_result"
    }
   ],
   "source": [
    "arr = np.array([2, 7, 9, 4, 4, 6])\n",
    "\n",
    "# arr[start:stop:step]\n",
    "arr[1:4:2]"
   ],
   "metadata": {
    "collapsed": false,
    "ExecuteTime": {
     "end_time": "2023-12-26T06:30:19.953571400Z",
     "start_time": "2023-12-26T06:30:19.831677Z"
    }
   },
   "id": "9665f11e44374b4f"
  },
  {
   "cell_type": "code",
   "execution_count": 15,
   "outputs": [],
   "source": [
    "multidim_array = np.array([\n",
    "    [12, 31, 24, 52, 98],\n",
    "    [34, 1, 23, 87, 76]\n",
    "])"
   ],
   "metadata": {
    "collapsed": false,
    "ExecuteTime": {
     "end_time": "2023-12-26T06:30:19.953571400Z",
     "start_time": "2023-12-26T06:30:19.837359100Z"
    }
   },
   "id": "b343dcbf37b5babe"
  },
  {
   "cell_type": "code",
   "execution_count": 16,
   "outputs": [
    {
     "data": {
      "text/plain": "(2, 5)"
     },
     "execution_count": 16,
     "metadata": {},
     "output_type": "execute_result"
    }
   ],
   "source": [
    "multidim_array.shape"
   ],
   "metadata": {
    "collapsed": false,
    "ExecuteTime": {
     "end_time": "2023-12-26T06:30:28.720745500Z",
     "start_time": "2023-12-26T06:30:28.703611100Z"
    }
   },
   "id": "5e87c071ea15283c"
  },
  {
   "cell_type": "code",
   "execution_count": 17,
   "outputs": [
    {
     "data": {
      "text/plain": "76"
     },
     "execution_count": 17,
     "metadata": {},
     "output_type": "execute_result"
    }
   ],
   "source": [
    "# [row, col], it can be also slice on both sides\n",
    "# [ 1:2, 4] - first and second row and fourth column\n",
    "# [1, 2:4] - form first row second and fourth columns \n",
    "multidim_array[1, 4]"
   ],
   "metadata": {
    "collapsed": false,
    "ExecuteTime": {
     "end_time": "2023-12-26T06:34:44.663055900Z",
     "start_time": "2023-12-26T06:34:44.631328300Z"
    }
   },
   "id": "ecc7b21d70dbd0de"
  },
  {
   "cell_type": "code",
   "execution_count": 18,
   "outputs": [
    {
     "data": {
      "text/plain": "array([24, 23])"
     },
     "execution_count": 18,
     "metadata": {},
     "output_type": "execute_result"
    }
   ],
   "source": [
    "# get only one column\n",
    "multidim_array[:, 2]"
   ],
   "metadata": {
    "collapsed": false,
    "ExecuteTime": {
     "end_time": "2023-12-26T06:37:38.869907800Z",
     "start_time": "2023-12-26T06:37:38.853963900Z"
    }
   },
   "id": "74fd7786bf9cd5a7"
  },
  {
   "cell_type": "code",
   "execution_count": 20,
   "outputs": [
    {
     "data": {
      "text/plain": "array([34,  1, 23, 87, 76])"
     },
     "execution_count": 20,
     "metadata": {},
     "output_type": "execute_result"
    }
   ],
   "source": [
    "# get only one row\n",
    "multidim_array[1, :]"
   ],
   "metadata": {
    "collapsed": false,
    "ExecuteTime": {
     "end_time": "2023-12-26T06:38:12.852383400Z",
     "start_time": "2023-12-26T06:38:12.805039900Z"
    }
   },
   "id": "2903fc6446fe9578"
  },
  {
   "cell_type": "markdown",
   "source": [
    "## Initialize different types of arrays"
   ],
   "metadata": {
    "collapsed": false
   },
   "id": "8855818d47ae99e5"
  },
  {
   "cell_type": "markdown",
   "source": [
    "#### <span style=\"color:orange;\">zeros</span> - Generates array from zeroes"
   ],
   "metadata": {
    "collapsed": false
   },
   "id": "52cbee6d0137ee52"
  },
  {
   "cell_type": "code",
   "execution_count": 21,
   "outputs": [
    {
     "data": {
      "text/plain": "array([0., 0., 0., 0.])"
     },
     "execution_count": 21,
     "metadata": {},
     "output_type": "execute_result"
    }
   ],
   "source": [
    "np.zeros(4)"
   ],
   "metadata": {
    "collapsed": false,
    "ExecuteTime": {
     "end_time": "2023-12-26T06:42:49.722345400Z",
     "start_time": "2023-12-26T06:42:49.643713400Z"
    }
   },
   "id": "e98c4ab1c0005f48"
  },
  {
   "cell_type": "code",
   "execution_count": 24,
   "outputs": [
    {
     "data": {
      "text/plain": "array([[0., 0., 0.],\n       [0., 0., 0.]])"
     },
     "execution_count": 24,
     "metadata": {},
     "output_type": "execute_result"
    }
   ],
   "source": [
    "np.zeros((2, 3))"
   ],
   "metadata": {
    "collapsed": false,
    "ExecuteTime": {
     "end_time": "2023-12-26T06:43:23.357395500Z",
     "start_time": "2023-12-26T06:43:23.341662700Z"
    }
   },
   "id": "b435e35491a2965f"
  },
  {
   "cell_type": "markdown",
   "source": [
    "#### <span style=\"color:orange;\">ones</span> - Generates array from ones"
   ],
   "metadata": {
    "collapsed": false
   },
   "id": "5aace142208511fe"
  },
  {
   "cell_type": "code",
   "execution_count": 25,
   "outputs": [
    {
     "data": {
      "text/plain": "array([[[1., 1., 1., 1., 1.],\n        [1., 1., 1., 1., 1.]],\n\n       [[1., 1., 1., 1., 1.],\n        [1., 1., 1., 1., 1.]],\n\n       [[1., 1., 1., 1., 1.],\n        [1., 1., 1., 1., 1.]]])"
     },
     "execution_count": 25,
     "metadata": {},
     "output_type": "execute_result"
    }
   ],
   "source": [
    "np.ones((3, 2, 5))"
   ],
   "metadata": {
    "collapsed": false,
    "ExecuteTime": {
     "end_time": "2023-12-26T06:44:10.872904700Z",
     "start_time": "2023-12-26T06:44:10.856745800Z"
    }
   },
   "id": "9db749dfde78b0db"
  },
  {
   "cell_type": "markdown",
   "source": [
    "#### <span style=\"color:orange;\">full</span> - Generates array with given value"
   ],
   "metadata": {
    "collapsed": false
   },
   "id": "ab71c8a720e943e4"
  },
  {
   "cell_type": "code",
   "execution_count": 26,
   "outputs": [
    {
     "data": {
      "text/plain": "array([[99, 99],\n       [99, 99]])"
     },
     "execution_count": 26,
     "metadata": {},
     "output_type": "execute_result"
    }
   ],
   "source": [
    "np.full((2, 2), 99)"
   ],
   "metadata": {
    "collapsed": false,
    "ExecuteTime": {
     "end_time": "2023-12-26T06:50:11.494325500Z",
     "start_time": "2023-12-26T06:50:11.416618800Z"
    }
   },
   "id": "49b0b25d07491385"
  },
  {
   "cell_type": "code",
   "execution_count": 28,
   "outputs": [
    {
     "data": {
      "text/plain": "array([[100, 100, 100, 100, 100],\n       [100, 100, 100, 100, 100]])"
     },
     "execution_count": 28,
     "metadata": {},
     "output_type": "execute_result"
    }
   ],
   "source": [
    "# all _like functions takes exist array with his shape and manipulates it.\n",
    "np.full_like(multidim_array, 100)"
   ],
   "metadata": {
    "collapsed": false,
    "ExecuteTime": {
     "end_time": "2023-12-26T06:55:27.595186800Z",
     "start_time": "2023-12-26T06:55:27.557879100Z"
    }
   },
   "id": "1d5bbe43cc48c277"
  },
  {
   "cell_type": "markdown",
   "source": [],
   "metadata": {
    "collapsed": false
   },
   "id": "e0094b4d8c91fe46"
  },
  {
   "cell_type": "markdown",
   "source": [
    "#### <span style=\"color:orange;\">random</span> - Generates array with random values"
   ],
   "metadata": {
    "collapsed": false
   },
   "id": "eda293c4e6a7d46c"
  },
  {
   "cell_type": "code",
   "execution_count": 29,
   "outputs": [
    {
     "data": {
      "text/plain": "array([0.69252985, 0.91989311, 0.17429458, 0.80500441, 0.51148262,\n       0.14000145, 0.30417698, 0.61342197, 0.87718644, 0.47877595])"
     },
     "execution_count": 29,
     "metadata": {},
     "output_type": "execute_result"
    }
   ],
   "source": [
    "np.random.rand(10)"
   ],
   "metadata": {
    "collapsed": false,
    "ExecuteTime": {
     "end_time": "2023-12-26T06:58:50.240914600Z",
     "start_time": "2023-12-26T06:58:50.197167300Z"
    }
   },
   "id": "e3a0d3a741293a8"
  },
  {
   "cell_type": "code",
   "execution_count": 31,
   "outputs": [
    {
     "data": {
      "text/plain": "array([ 0.66390764,  0.24596298, -0.38016489,  1.94425801,  0.29268726,\n        0.28676183, -0.42723146, -0.05695671,  0.34058492, -0.55819111])"
     },
     "execution_count": 31,
     "metadata": {},
     "output_type": "execute_result"
    }
   ],
   "source": [
    "np.random.randn(10)"
   ],
   "metadata": {
    "collapsed": false,
    "ExecuteTime": {
     "end_time": "2023-12-26T07:01:17.103658600Z",
     "start_time": "2023-12-26T07:01:17.069090Z"
    }
   },
   "id": "650d389c4695d35c"
  },
  {
   "cell_type": "code",
   "execution_count": 32,
   "outputs": [
    {
     "data": {
      "text/plain": "83"
     },
     "execution_count": 32,
     "metadata": {},
     "output_type": "execute_result"
    }
   ],
   "source": [
    "# np.random.seed(42) - to prevent change of random generated number when notebook is running multiple times\n",
    "np.random.randint(50, 100)"
   ],
   "metadata": {
    "collapsed": false,
    "ExecuteTime": {
     "end_time": "2023-12-26T07:07:47.065405300Z",
     "start_time": "2023-12-26T07:07:47.002503700Z"
    }
   },
   "id": "c1746b83f779769f"
  },
  {
   "cell_type": "code",
   "execution_count": 33,
   "outputs": [
    {
     "data": {
      "text/plain": "array([[96, 80, 55],\n       [94, 94, 56],\n       [90, 96, 78]])"
     },
     "execution_count": 33,
     "metadata": {},
     "output_type": "execute_result"
    }
   ],
   "source": [
    "np.random.randint(50, 100, size=(3, 3))"
   ],
   "metadata": {
    "collapsed": false,
    "ExecuteTime": {
     "end_time": "2023-12-26T07:08:13.194336900Z",
     "start_time": "2023-12-26T07:08:13.177426800Z"
    }
   },
   "id": "5e813171993a74b0"
  },
  {
   "cell_type": "markdown",
   "source": [
    "#### <span style=\"color:orange;\">eye</span> - Returns matrix which main diagonal is with ones "
   ],
   "metadata": {
    "collapsed": false
   },
   "id": "752e55337fb9d3cb"
  },
  {
   "cell_type": "code",
   "execution_count": 34,
   "outputs": [
    {
     "data": {
      "text/plain": "array([[1., 0., 0.],\n       [0., 1., 0.],\n       [0., 0., 1.]])"
     },
     "execution_count": 34,
     "metadata": {},
     "output_type": "execute_result"
    }
   ],
   "source": [
    "np.eye(3)"
   ],
   "metadata": {
    "collapsed": false,
    "ExecuteTime": {
     "end_time": "2023-12-26T07:14:26.528892500Z",
     "start_time": "2023-12-26T07:14:26.512892500Z"
    }
   },
   "id": "4724051bceb89674"
  },
  {
   "cell_type": "markdown",
   "source": [
    "## Maths"
   ],
   "metadata": {
    "collapsed": false
   },
   "id": "f547296ab2464a4a"
  },
  {
   "cell_type": "code",
   "execution_count": 35,
   "outputs": [],
   "source": [
    "my_arr = np.array([2, 3, 8, 12, 0])"
   ],
   "metadata": {
    "collapsed": false,
    "ExecuteTime": {
     "end_time": "2023-12-26T07:20:55.260418900Z",
     "start_time": "2023-12-26T07:20:55.233719700Z"
    }
   },
   "id": "de5881a25b00e4fe"
  },
  {
   "cell_type": "code",
   "execution_count": 36,
   "outputs": [
    {
     "data": {
      "text/plain": "array([ 4,  5, 10, 14,  2])"
     },
     "execution_count": 36,
     "metadata": {},
     "output_type": "execute_result"
    }
   ],
   "source": [
    "my_arr + 2"
   ],
   "metadata": {
    "collapsed": false,
    "ExecuteTime": {
     "end_time": "2023-12-26T07:21:01.975359Z",
     "start_time": "2023-12-26T07:21:01.959538Z"
    }
   },
   "id": "47adc10c0e4697e"
  },
  {
   "cell_type": "code",
   "execution_count": 37,
   "outputs": [
    {
     "data": {
      "text/plain": "array([-1,  0,  5,  9, -3])"
     },
     "execution_count": 37,
     "metadata": {},
     "output_type": "execute_result"
    }
   ],
   "source": [
    "my_arr - 3"
   ],
   "metadata": {
    "collapsed": false,
    "ExecuteTime": {
     "end_time": "2023-12-26T07:21:09.751619700Z",
     "start_time": "2023-12-26T07:21:09.735776700Z"
    }
   },
   "id": "54a441201c8a4841"
  },
  {
   "cell_type": "code",
   "execution_count": 38,
   "outputs": [
    {
     "data": {
      "text/plain": "array([1. , 1.5, 4. , 6. , 0. ])"
     },
     "execution_count": 38,
     "metadata": {},
     "output_type": "execute_result"
    }
   ],
   "source": [
    "my_arr / 2"
   ],
   "metadata": {
    "collapsed": false,
    "ExecuteTime": {
     "end_time": "2023-12-26T07:22:22.832663800Z",
     "start_time": "2023-12-26T07:22:22.757819500Z"
    }
   },
   "id": "2a8fdcc96fdf59e7"
  },
  {
   "cell_type": "code",
   "execution_count": 39,
   "outputs": [
    {
     "data": {
      "text/plain": "array([ 4,  6, 16, 24,  0])"
     },
     "execution_count": 39,
     "metadata": {},
     "output_type": "execute_result"
    }
   ],
   "source": [
    "my_arr * 2"
   ],
   "metadata": {
    "collapsed": false,
    "ExecuteTime": {
     "end_time": "2023-12-26T07:22:39.141719900Z",
     "start_time": "2023-12-26T07:22:39.121967100Z"
    }
   },
   "id": "6e78f849fe409a9f"
  },
  {
   "cell_type": "code",
   "execution_count": 40,
   "outputs": [
    {
     "data": {
      "text/plain": "array([  4,   9,  64, 144,   0])"
     },
     "execution_count": 40,
     "metadata": {},
     "output_type": "execute_result"
    }
   ],
   "source": [
    "my_arr ** 2"
   ],
   "metadata": {
    "collapsed": false,
    "ExecuteTime": {
     "end_time": "2023-12-26T07:22:56.321988200Z",
     "start_time": "2023-12-26T07:22:56.272034300Z"
    }
   },
   "id": "8232179d75f45b4c"
  },
  {
   "cell_type": "code",
   "execution_count": 42,
   "outputs": [],
   "source": [
    "your_arr = np.array([4, 3, -1, 9, 12])"
   ],
   "metadata": {
    "collapsed": false,
    "ExecuteTime": {
     "end_time": "2023-12-26T07:23:36.371324900Z",
     "start_time": "2023-12-26T07:23:36.339656700Z"
    }
   },
   "id": "f86f49c96085abad"
  },
  {
   "cell_type": "code",
   "execution_count": 43,
   "outputs": [
    {
     "data": {
      "text/plain": "array([ 6,  6,  7, 21, 12])"
     },
     "execution_count": 43,
     "metadata": {},
     "output_type": "execute_result"
    }
   ],
   "source": [
    "my_arr + your_arr"
   ],
   "metadata": {
    "collapsed": false,
    "ExecuteTime": {
     "end_time": "2023-12-26T07:23:42.671868300Z",
     "start_time": "2023-12-26T07:23:42.656288100Z"
    }
   },
   "id": "c6ace152f557670b"
  },
  {
   "cell_type": "code",
   "execution_count": 44,
   "outputs": [
    {
     "data": {
      "text/plain": "array([ -2,   0,   9,   3, -12])"
     },
     "execution_count": 44,
     "metadata": {},
     "output_type": "execute_result"
    }
   ],
   "source": [
    "my_arr - your_arr"
   ],
   "metadata": {
    "collapsed": false,
    "ExecuteTime": {
     "end_time": "2023-12-26T07:23:59.877048400Z",
     "start_time": "2023-12-26T07:23:59.861260300Z"
    }
   },
   "id": "5b0e63d2f8ff423c"
  },
  {
   "cell_type": "code",
   "execution_count": 45,
   "outputs": [
    {
     "data": {
      "text/plain": "array([  8,   9,  -8, 108,   0])"
     },
     "execution_count": 45,
     "metadata": {},
     "output_type": "execute_result"
    }
   ],
   "source": [
    "my_arr * your_arr"
   ],
   "metadata": {
    "collapsed": false,
    "ExecuteTime": {
     "end_time": "2023-12-26T07:25:16.419981100Z",
     "start_time": "2023-12-26T07:25:16.379637100Z"
    }
   },
   "id": "48366f279e39fbbb"
  },
  {
   "cell_type": "code",
   "execution_count": 46,
   "outputs": [
    {
     "data": {
      "text/plain": "array([ 0.5       ,  1.        , -8.        ,  1.33333333,  0.        ])"
     },
     "execution_count": 46,
     "metadata": {},
     "output_type": "execute_result"
    }
   ],
   "source": [
    "my_arr / your_arr"
   ],
   "metadata": {
    "collapsed": false,
    "ExecuteTime": {
     "end_time": "2023-12-26T07:26:27.813427100Z",
     "start_time": "2023-12-26T07:26:27.769657500Z"
    }
   },
   "id": "f518ac0531f39d8e"
  },
  {
   "cell_type": "code",
   "execution_count": 47,
   "outputs": [
    {
     "data": {
      "text/plain": "array([ 0.90929743,  0.14112001,  0.98935825, -0.53657292,  0.        ])"
     },
     "execution_count": 47,
     "metadata": {},
     "output_type": "execute_result"
    }
   ],
   "source": [
    "np.sin(my_arr)"
   ],
   "metadata": {
    "collapsed": false,
    "ExecuteTime": {
     "end_time": "2023-12-26T07:26:55.430832600Z",
     "start_time": "2023-12-26T07:26:55.412607900Z"
    }
   },
   "id": "e29dac6bbcff6a93"
  },
  {
   "cell_type": "markdown",
   "source": [
    "## Linear algebra"
   ],
   "metadata": {
    "collapsed": false
   },
   "id": "7f6e2ad2f62e6dc0"
  },
  {
   "cell_type": "code",
   "execution_count": 48,
   "outputs": [
    {
     "data": {
      "text/plain": "array([[1., 1., 1.],\n       [1., 1., 1.]])"
     },
     "execution_count": 48,
     "metadata": {},
     "output_type": "execute_result"
    }
   ],
   "source": [
    "mat1 = np.ones((2, 3))\n",
    "mat1"
   ],
   "metadata": {
    "collapsed": false,
    "ExecuteTime": {
     "end_time": "2023-12-26T07:28:02.674223300Z",
     "start_time": "2023-12-26T07:28:02.658423100Z"
    }
   },
   "id": "213e624d91fb480c"
  },
  {
   "cell_type": "code",
   "execution_count": 49,
   "outputs": [
    {
     "data": {
      "text/plain": "array([[2, 2],\n       [2, 2],\n       [2, 2]])"
     },
     "execution_count": 49,
     "metadata": {},
     "output_type": "execute_result"
    }
   ],
   "source": [
    "mat2 = np.full((3, 2), 2)\n",
    "mat2"
   ],
   "metadata": {
    "collapsed": false,
    "ExecuteTime": {
     "end_time": "2023-12-26T07:28:37.969167100Z",
     "start_time": "2023-12-26T07:28:37.874832700Z"
    }
   },
   "id": "91fe430c1cbeb47a"
  },
  {
   "cell_type": "code",
   "execution_count": 50,
   "outputs": [
    {
     "ename": "ValueError",
     "evalue": "operands could not be broadcast together with shapes (2,3) (3,2) ",
     "output_type": "error",
     "traceback": [
      "\u001B[1;31m---------------------------------------------------------------------------\u001B[0m",
      "\u001B[1;31mValueError\u001B[0m                                Traceback (most recent call last)",
      "Cell \u001B[1;32mIn[50], line 1\u001B[0m\n\u001B[1;32m----> 1\u001B[0m \u001B[43mmat1\u001B[49m\u001B[43m \u001B[49m\u001B[38;5;241;43m*\u001B[39;49m\u001B[43m \u001B[49m\u001B[43mmat2\u001B[49m\n",
      "\u001B[1;31mValueError\u001B[0m: operands could not be broadcast together with shapes (2,3) (3,2) "
     ]
    }
   ],
   "source": [
    "mat1 * mat2"
   ],
   "metadata": {
    "collapsed": false,
    "ExecuteTime": {
     "end_time": "2023-12-26T07:28:49.557974600Z",
     "start_time": "2023-12-26T07:28:49.542714100Z"
    }
   },
   "id": "ab362c470053e380"
  },
  {
   "cell_type": "code",
   "execution_count": 51,
   "outputs": [
    {
     "data": {
      "text/plain": "array([[6., 6.],\n       [6., 6.]])"
     },
     "execution_count": 51,
     "metadata": {},
     "output_type": "execute_result"
    }
   ],
   "source": [
    "np.matmul(mat1, mat2)"
   ],
   "metadata": {
    "collapsed": false,
    "ExecuteTime": {
     "end_time": "2023-12-26T07:29:42.977550200Z",
     "start_time": "2023-12-26T07:29:42.901701500Z"
    }
   },
   "id": "96326d2925a0f9f8"
  },
  {
   "cell_type": "code",
   "execution_count": 52,
   "outputs": [
    {
     "data": {
      "text/plain": "array([[4., 4., 4.],\n       [4., 4., 4.],\n       [4., 4., 4.]])"
     },
     "execution_count": 52,
     "metadata": {},
     "output_type": "execute_result"
    }
   ],
   "source": [
    "np.matmul(mat2, mat1)"
   ],
   "metadata": {
    "collapsed": false,
    "ExecuteTime": {
     "end_time": "2023-12-26T07:30:38.575874400Z",
     "start_time": "2023-12-26T07:30:38.529140800Z"
    }
   },
   "id": "ece34e6e81ccb94d"
  },
  {
   "cell_type": "code",
   "execution_count": 53,
   "outputs": [
    {
     "data": {
      "text/plain": "-132061.0000000002"
     },
     "execution_count": 53,
     "metadata": {},
     "output_type": "execute_result"
    }
   ],
   "source": [
    "# Find determinant\n",
    "np.linalg.det(np.random.randint(2, 100, size=(3, 3)))"
   ],
   "metadata": {
    "collapsed": false,
    "ExecuteTime": {
     "end_time": "2023-12-26T07:31:44.896398600Z",
     "start_time": "2023-12-26T07:31:44.834518600Z"
    }
   },
   "id": "6b1e89a1e2b6b3c6"
  },
  {
   "cell_type": "markdown",
   "source": [
    "## Statistics"
   ],
   "metadata": {
    "collapsed": false
   },
   "id": "8ca607c203372da"
  },
  {
   "cell_type": "code",
   "execution_count": 54,
   "outputs": [],
   "source": [
    "stats = np.array([\n",
    "    [1, 2, 3],\n",
    "    [4, 5, 6]\n",
    "])"
   ],
   "metadata": {
    "collapsed": false,
    "ExecuteTime": {
     "end_time": "2023-12-26T07:35:26.708984700Z",
     "start_time": "2023-12-26T07:35:26.648690200Z"
    }
   },
   "id": "73112fdf3f1733b2"
  },
  {
   "cell_type": "code",
   "execution_count": 55,
   "outputs": [
    {
     "data": {
      "text/plain": "1"
     },
     "execution_count": 55,
     "metadata": {},
     "output_type": "execute_result"
    }
   ],
   "source": [
    "np.min(stats)"
   ],
   "metadata": {
    "collapsed": false,
    "ExecuteTime": {
     "end_time": "2023-12-26T07:35:35.237224500Z",
     "start_time": "2023-12-26T07:35:35.202270300Z"
    }
   },
   "id": "3527ae2af3865d73"
  },
  {
   "cell_type": "code",
   "execution_count": 56,
   "outputs": [
    {
     "data": {
      "text/plain": "array([1, 2, 3])"
     },
     "execution_count": 56,
     "metadata": {},
     "output_type": "execute_result"
    }
   ],
   "source": [
    "np.min(stats, axis=0)"
   ],
   "metadata": {
    "collapsed": false,
    "ExecuteTime": {
     "end_time": "2023-12-26T07:35:54.659689400Z",
     "start_time": "2023-12-26T07:35:54.608230900Z"
    }
   },
   "id": "9d3759c3cc6911b"
  },
  {
   "cell_type": "code",
   "execution_count": 57,
   "outputs": [
    {
     "data": {
      "text/plain": "array([1, 4])"
     },
     "execution_count": 57,
     "metadata": {},
     "output_type": "execute_result"
    }
   ],
   "source": [
    "np.min(stats, axis=1)"
   ],
   "metadata": {
    "collapsed": false,
    "ExecuteTime": {
     "end_time": "2023-12-26T07:36:12.776059400Z",
     "start_time": "2023-12-26T07:36:12.760255600Z"
    }
   },
   "id": "a0680ee9efae8afa"
  },
  {
   "cell_type": "code",
   "execution_count": 58,
   "outputs": [
    {
     "data": {
      "text/plain": "6"
     },
     "execution_count": 58,
     "metadata": {},
     "output_type": "execute_result"
    }
   ],
   "source": [
    "np.max(stats)"
   ],
   "metadata": {
    "collapsed": false,
    "ExecuteTime": {
     "end_time": "2023-12-26T07:36:24.956692800Z",
     "start_time": "2023-12-26T07:36:24.877384400Z"
    }
   },
   "id": "f106003fc7d81239"
  },
  {
   "cell_type": "markdown",
   "source": [
    "- axis=0 - rows\n",
    "- axis=1 - columns"
   ],
   "metadata": {
    "collapsed": false
   },
   "id": "160639990636f0c9"
  },
  {
   "cell_type": "code",
   "execution_count": 59,
   "outputs": [
    {
     "data": {
      "text/plain": "array([5, 7, 9])"
     },
     "execution_count": 59,
     "metadata": {},
     "output_type": "execute_result"
    }
   ],
   "source": [
    "np.sum(stats, axis=0)"
   ],
   "metadata": {
    "collapsed": false,
    "ExecuteTime": {
     "end_time": "2023-12-26T07:36:41.255092200Z",
     "start_time": "2023-12-26T07:36:41.182557600Z"
    }
   },
   "id": "90b9784dfed7deb1"
  },
  {
   "cell_type": "code",
   "execution_count": 60,
   "outputs": [
    {
     "data": {
      "text/plain": "array([ 6, 15])"
     },
     "execution_count": 60,
     "metadata": {},
     "output_type": "execute_result"
    }
   ],
   "source": [
    "np.sum(stats, axis=1)"
   ],
   "metadata": {
    "collapsed": false,
    "ExecuteTime": {
     "end_time": "2023-12-26T07:37:06.695665900Z",
     "start_time": "2023-12-26T07:37:06.627296600Z"
    }
   },
   "id": "15ccc45d52a82898"
  },
  {
   "cell_type": "code",
   "execution_count": 61,
   "outputs": [
    {
     "data": {
      "text/plain": "3.5"
     },
     "execution_count": 61,
     "metadata": {},
     "output_type": "execute_result"
    }
   ],
   "source": [
    "np.average(stats)"
   ],
   "metadata": {
    "collapsed": false,
    "ExecuteTime": {
     "end_time": "2023-12-26T07:37:43.112026200Z",
     "start_time": "2023-12-26T07:37:43.081899900Z"
    }
   },
   "id": "f20bed20c4a0ab47"
  },
  {
   "cell_type": "code",
   "execution_count": 63,
   "outputs": [
    {
     "data": {
      "text/plain": "array([2., 5.])"
     },
     "execution_count": 63,
     "metadata": {},
     "output_type": "execute_result"
    }
   ],
   "source": [
    "np.average(stats, axis=1)"
   ],
   "metadata": {
    "collapsed": false,
    "ExecuteTime": {
     "end_time": "2023-12-26T07:38:12.251876700Z",
     "start_time": "2023-12-26T07:38:12.221511900Z"
    }
   },
   "id": "e16a93e241ad944a"
  },
  {
   "cell_type": "markdown",
   "source": [
    "## Reorganizing arrays"
   ],
   "metadata": {
    "collapsed": false
   },
   "id": "6161c86a03fdd293"
  },
  {
   "cell_type": "code",
   "execution_count": 64,
   "outputs": [
    {
     "data": {
      "text/plain": "array([[1, 2, 3, 4],\n       [5, 6, 7, 8]])"
     },
     "execution_count": 64,
     "metadata": {},
     "output_type": "execute_result"
    }
   ],
   "source": [
    "old_arr = np.array([\n",
    "    [1, 2, 3, 4],\n",
    "    [5, 6, 7, 8]\n",
    "])\n",
    "old_arr"
   ],
   "metadata": {
    "collapsed": false,
    "ExecuteTime": {
     "end_time": "2023-12-26T07:42:49.408667800Z",
     "start_time": "2023-12-26T07:42:49.331208500Z"
    }
   },
   "id": "b67740b296640be7"
  },
  {
   "cell_type": "code",
   "execution_count": 65,
   "outputs": [
    {
     "data": {
      "text/plain": "array([[1, 2, 3, 4, 5, 6, 7, 8]])"
     },
     "execution_count": 65,
     "metadata": {},
     "output_type": "execute_result"
    }
   ],
   "source": [
    "old_arr.reshape((1, 8))"
   ],
   "metadata": {
    "collapsed": false,
    "ExecuteTime": {
     "end_time": "2023-12-26T07:48:09.706312700Z",
     "start_time": "2023-12-26T07:48:09.612853200Z"
    }
   },
   "id": "98fa8f3f8cd7fe38"
  },
  {
   "cell_type": "code",
   "execution_count": 66,
   "outputs": [
    {
     "data": {
      "text/plain": "array([[1],\n       [2],\n       [3],\n       [4],\n       [5],\n       [6],\n       [7],\n       [8]])"
     },
     "execution_count": 66,
     "metadata": {},
     "output_type": "execute_result"
    }
   ],
   "source": [
    "old_arr.reshape((8, 1))"
   ],
   "metadata": {
    "collapsed": false,
    "ExecuteTime": {
     "end_time": "2023-12-26T07:48:23.846454400Z",
     "start_time": "2023-12-26T07:48:23.759628Z"
    }
   },
   "id": "ec7c010b4873bd12"
  },
  {
   "cell_type": "code",
   "execution_count": 68,
   "outputs": [
    {
     "data": {
      "text/plain": "array([[1, 2],\n       [3, 4],\n       [5, 6],\n       [7, 8]])"
     },
     "execution_count": 68,
     "metadata": {},
     "output_type": "execute_result"
    }
   ],
   "source": [
    "old_arr.reshape((4, 2))"
   ],
   "metadata": {
    "collapsed": false,
    "ExecuteTime": {
     "end_time": "2023-12-26T07:49:22.409665500Z",
     "start_time": "2023-12-26T07:49:22.371850900Z"
    }
   },
   "id": "2f73cfd8725031a7"
  },
  {
   "cell_type": "code",
   "execution_count": 69,
   "outputs": [
    {
     "data": {
      "text/plain": "array([[1, 2, 3, 4],\n       [5, 6, 7, 8]])"
     },
     "execution_count": 69,
     "metadata": {},
     "output_type": "execute_result"
    }
   ],
   "source": [
    "old_arr.reshape((2, 4))"
   ],
   "metadata": {
    "collapsed": false,
    "ExecuteTime": {
     "end_time": "2023-12-26T07:49:35.066108300Z",
     "start_time": "2023-12-26T07:49:35.001605100Z"
    }
   },
   "id": "eeddf277a75bd1e0"
  },
  {
   "cell_type": "markdown",
   "source": [
    "#### <span style=\"color:orange;\">vstack</span> - Vertical stack of arrays"
   ],
   "metadata": {
    "collapsed": false
   },
   "id": "b755517eb4e306c9"
  },
  {
   "cell_type": "code",
   "execution_count": 72,
   "outputs": [
    {
     "data": {
      "text/plain": "array([[1, 2, 3, 4],\n       [5, 6, 7, 8]])"
     },
     "execution_count": 72,
     "metadata": {},
     "output_type": "execute_result"
    }
   ],
   "source": [
    "arr1 = np.array([1, 2, 3, 4])\n",
    "arr2 = np.array([5, 6, 7, 8])\n",
    "\n",
    "np.vstack([arr1, arr2])\n"
   ],
   "metadata": {
    "collapsed": false,
    "ExecuteTime": {
     "end_time": "2023-12-26T07:51:12.003186600Z",
     "start_time": "2023-12-26T07:51:11.971898300Z"
    }
   },
   "id": "dd44172ac3ccfb09"
  },
  {
   "cell_type": "markdown",
   "source": [],
   "metadata": {
    "collapsed": false
   },
   "id": "b28fb75f6b72cd99"
  }
 ],
 "metadata": {
  "kernelspec": {
   "display_name": "Python 3",
   "language": "python",
   "name": "python3"
  },
  "language_info": {
   "codemirror_mode": {
    "name": "ipython",
    "version": 2
   },
   "file_extension": ".py",
   "mimetype": "text/x-python",
   "name": "python",
   "nbconvert_exporter": "python",
   "pygments_lexer": "ipython2",
   "version": "2.7.6"
  }
 },
 "nbformat": 4,
 "nbformat_minor": 5
}

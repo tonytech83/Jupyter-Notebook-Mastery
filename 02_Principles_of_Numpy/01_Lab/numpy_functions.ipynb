{
 "cells": [
  {
   "cell_type": "code",
   "execution_count": 1,
   "id": "initial_id",
   "metadata": {
    "collapsed": true,
    "ExecuteTime": {
     "end_time": "2023-12-22T14:13:55.107966900Z",
     "start_time": "2023-12-22T14:13:55.023810500Z"
    }
   },
   "outputs": [],
   "source": [
    "import numpy as np"
   ]
  },
  {
   "cell_type": "markdown",
   "source": [
    "## The basics"
   ],
   "metadata": {
    "collapsed": false
   },
   "id": "4e5d6c051a7a93c7"
  },
  {
   "cell_type": "markdown",
   "source": [
    "#### One dimensional array"
   ],
   "metadata": {
    "collapsed": false
   },
   "id": "eeb7dcd83d9a9f89"
  },
  {
   "cell_type": "code",
   "execution_count": 4,
   "outputs": [
    {
     "data": {
      "text/plain": "array([1, 2, 3, 4], dtype=int8)"
     },
     "execution_count": 4,
     "metadata": {},
     "output_type": "execute_result"
    }
   ],
   "source": [
    "oned_array = np.array([1, 2, 3, 4], dtype='int8')\n",
    "oned_array"
   ],
   "metadata": {
    "collapsed": false,
    "ExecuteTime": {
     "end_time": "2023-12-22T14:15:31.529714900Z",
     "start_time": "2023-12-22T14:15:31.513596700Z"
    }
   },
   "id": "8552e395105a1010"
  },
  {
   "cell_type": "code",
   "execution_count": 3,
   "outputs": [
    {
     "data": {
      "text/plain": "[2, 3, 4]"
     },
     "execution_count": 3,
     "metadata": {},
     "output_type": "execute_result"
    }
   ],
   "source": [
    "lst = [2, 3, 4]\n",
    "lst"
   ],
   "metadata": {
    "collapsed": false,
    "ExecuteTime": {
     "end_time": "2023-12-22T14:15:23.356134Z",
     "start_time": "2023-12-22T14:15:23.336467500Z"
    }
   },
   "id": "877e15f7ed81212e"
  },
  {
   "cell_type": "markdown",
   "source": [
    "#### Two dimensional array"
   ],
   "metadata": {
    "collapsed": false
   },
   "id": "e11d05f2a1d039a0"
  },
  {
   "cell_type": "code",
   "execution_count": 5,
   "outputs": [
    {
     "data": {
      "text/plain": "array([[3, 4, 5],\n       [9, 8, 7]])"
     },
     "execution_count": 5,
     "metadata": {},
     "output_type": "execute_result"
    }
   ],
   "source": [
    "twod_array = np.array([[3, 4, 5], [9, 8, 7]])\n",
    "twod_array"
   ],
   "metadata": {
    "collapsed": false,
    "ExecuteTime": {
     "end_time": "2023-12-22T14:17:17.169916700Z",
     "start_time": "2023-12-22T14:17:17.165771500Z"
    }
   },
   "id": "4051cfa833c06a69"
  },
  {
   "cell_type": "code",
   "execution_count": null,
   "outputs": [],
   "source": [],
   "metadata": {
    "collapsed": false
   },
   "id": "c2909d2ec722fb5e"
  }
 ],
 "metadata": {
  "kernelspec": {
   "display_name": "Python 3",
   "language": "python",
   "name": "python3"
  },
  "language_info": {
   "codemirror_mode": {
    "name": "ipython",
    "version": 2
   },
   "file_extension": ".py",
   "mimetype": "text/x-python",
   "name": "python",
   "nbconvert_exporter": "python",
   "pygments_lexer": "ipython2",
   "version": "2.7.6"
  }
 },
 "nbformat": 4,
 "nbformat_minor": 5
}

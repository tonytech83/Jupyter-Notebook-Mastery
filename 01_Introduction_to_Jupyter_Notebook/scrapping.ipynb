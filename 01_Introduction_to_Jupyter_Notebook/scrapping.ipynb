{
 "cells": [
  {
   "cell_type": "code",
   "execution_count": 1,
   "id": "initial_id",
   "metadata": {
    "collapsed": true,
    "jupyter": {
     "outputs_hidden": true
    },
    "ExecuteTime": {
     "end_time": "2023-12-13T07:42:33.614106900Z",
     "start_time": "2023-12-13T07:42:33.477021500Z"
    }
   },
   "outputs": [],
   "source": [
    "from bs4 import BeautifulSoup\n",
    "import requests\n",
    "\n",
    "from datetime import datetime, timedelta"
   ]
  },
  {
   "cell_type": "markdown",
   "id": "abcef17ae6add74",
   "metadata": {
    "collapsed": false
   },
   "source": [
    "Define start and end dates"
   ]
  },
  {
   "cell_type": "code",
   "execution_count": 2,
   "id": "7565f90ccd63a2e6",
   "metadata": {
    "collapsed": false,
    "ExecuteTime": {
     "end_time": "2023-12-13T07:42:33.615248700Z",
     "start_time": "2023-12-13T07:42:33.609081600Z"
    }
   },
   "outputs": [],
   "source": [
    "start_date = datetime(2023, 5, 1)\n",
    "end_date = datetime(2023, 5, 1)"
   ]
  },
  {
   "cell_type": "markdown",
   "id": "e8d13a4ac928b2f7",
   "metadata": {
    "collapsed": false
   },
   "source": [
    "website url"
   ]
  },
  {
   "cell_type": "code",
   "execution_count": 3,
   "id": "dfc67e038ec7e5bd",
   "metadata": {
    "collapsed": false,
    "ExecuteTime": {
     "end_time": "2023-12-13T07:42:33.623465600Z",
     "start_time": "2023-12-13T07:42:33.612102900Z"
    }
   },
   "outputs": [],
   "source": [
    "url = \"https://rxinfinitybox.com/\""
   ]
  },
  {
   "cell_type": "markdown",
   "id": "7e141a7b3cd3918d",
   "metadata": {
    "collapsed": false
   },
   "source": [
    "Iterate form start date to end date"
   ]
  },
  {
   "cell_type": "code",
   "execution_count": 4,
   "id": "4c33d7cbe0e203e8",
   "metadata": {
    "collapsed": false,
    "ExecuteTime": {
     "end_time": "2023-12-13T07:42:37.587207700Z",
     "start_time": "2023-12-13T07:42:33.621457700Z"
    }
   },
   "outputs": [
    {
     "name": "stdout",
     "output_type": "stream",
     "text": [
      "[<div class=\"single-post-wrap entry-content\"><p><strong>For time / Cap 30 minutes</strong></p>\n",
      "<hr/>\n",
      "<p><strong>3 rounds of: </strong></p>\n",
      "<p><strong>5 wall walk </strong></p>\n",
      "<p><strong>15 push ups </strong></p>\n",
      "<p><strong>80 meters bag carry </strong></p>\n",
      "<p><strong>Directly into 3 rounds of: </strong></p>\n",
      "<p><strong>10 burpees </strong></p>\n",
      "<p><strong>15 dips </strong></p>\n",
      "<p><strong>10 ab cal </strong></p>\n",
      "<p><strong>Directly into 3 rounds of:</strong></p>\n",
      "<p><strong>10 db c&amp;j </strong></p>\n",
      "<p><strong>15 cal row </strong></p>\n",
      "<p><strong>15 ttb </strong></p>\n",
      "<hr/>\n",
      "<p> </p>\n",
      "</div>]\n"
     ]
    }
   ],
   "source": [
    "for current_date in (start_date + timedelta(days=n) for n in range((end_date - start_date).days + 1)):\n",
    "    wod_date = f'wod-{current_date.strftime(\"%d-%m-%Y\")}'\n",
    "    wod_url = url + wod_date\n",
    "\n",
    "    response = requests.get(wod_url)\n",
    "\n",
    "    soup = BeautifulSoup(response.text, 'html.parser')\n",
    "\n",
    "    print(soup.find_all('div', class_='single-post-wrap entry-content'))"
   ]
  }
 ],
 "metadata": {
  "kernelspec": {
   "display_name": "Python 3 (ipykernel)",
   "language": "python",
   "name": "python3"
  },
  "language_info": {
   "codemirror_mode": {
    "name": "ipython",
    "version": 3
   },
   "file_extension": ".py",
   "mimetype": "text/x-python",
   "name": "python",
   "nbconvert_exporter": "python",
   "pygments_lexer": "ipython3",
   "version": "3.12.0"
  }
 },
 "nbformat": 4,
 "nbformat_minor": 5
}

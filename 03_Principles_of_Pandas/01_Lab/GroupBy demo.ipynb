{
 "cells": [
  {
   "cell_type": "code",
   "execution_count": 1,
   "id": "8b4d531a",
   "metadata": {
    "ExecuteTime": {
     "end_time": "2024-01-18T08:03:48.545516200Z",
     "start_time": "2024-01-18T08:03:47.547401900Z"
    }
   },
   "outputs": [],
   "source": [
    "import numpy as np\n",
    "import pandas as pd"
   ]
  },
  {
   "cell_type": "code",
   "execution_count": 2,
   "id": "7c0590ba",
   "metadata": {
    "ExecuteTime": {
     "end_time": "2024-01-18T08:03:48.565444700Z",
     "start_time": "2024-01-18T08:03:48.545516200Z"
    }
   },
   "outputs": [],
   "source": [
    "# read our data\n",
    "student_perf = pd.read_csv('./data/StudentsPerformance.csv')\n",
    "student_perf.columns = student_perf.columns.str.replace(\" \", \"_\")"
   ]
  },
  {
   "cell_type": "code",
   "execution_count": 3,
   "id": "7aad30c2",
   "metadata": {
    "ExecuteTime": {
     "end_time": "2024-01-18T08:03:48.565950600Z",
     "start_time": "2024-01-18T08:03:48.559434400Z"
    }
   },
   "outputs": [
    {
     "data": {
      "text/plain": "(1000, 8)"
     },
     "execution_count": 3,
     "metadata": {},
     "output_type": "execute_result"
    }
   ],
   "source": [
    "student_perf.shape"
   ]
  },
  {
   "cell_type": "code",
   "execution_count": 4,
   "id": "83b62b59",
   "metadata": {
    "ExecuteTime": {
     "end_time": "2024-01-18T08:03:48.661184900Z",
     "start_time": "2024-01-18T08:03:48.565950600Z"
    }
   },
   "outputs": [
    {
     "data": {
      "text/plain": "      gender       variable  value\n0     female  writing_score     74\n1     female  writing_score     88\n2     female  writing_score     93\n3       male  writing_score     44\n4       male  writing_score     75\n...      ...            ...    ...\n1995  female  reading_score     99\n1996    male  reading_score     55\n1997  female  reading_score     71\n1998  female  reading_score     78\n1999  female  reading_score     86\n\n[2000 rows x 3 columns]",
      "text/html": "<div>\n<style scoped>\n    .dataframe tbody tr th:only-of-type {\n        vertical-align: middle;\n    }\n\n    .dataframe tbody tr th {\n        vertical-align: top;\n    }\n\n    .dataframe thead th {\n        text-align: right;\n    }\n</style>\n<table border=\"1\" class=\"dataframe\">\n  <thead>\n    <tr style=\"text-align: right;\">\n      <th></th>\n      <th>gender</th>\n      <th>variable</th>\n      <th>value</th>\n    </tr>\n  </thead>\n  <tbody>\n    <tr>\n      <th>0</th>\n      <td>female</td>\n      <td>writing_score</td>\n      <td>74</td>\n    </tr>\n    <tr>\n      <th>1</th>\n      <td>female</td>\n      <td>writing_score</td>\n      <td>88</td>\n    </tr>\n    <tr>\n      <th>2</th>\n      <td>female</td>\n      <td>writing_score</td>\n      <td>93</td>\n    </tr>\n    <tr>\n      <th>3</th>\n      <td>male</td>\n      <td>writing_score</td>\n      <td>44</td>\n    </tr>\n    <tr>\n      <th>4</th>\n      <td>male</td>\n      <td>writing_score</td>\n      <td>75</td>\n    </tr>\n    <tr>\n      <th>...</th>\n      <td>...</td>\n      <td>...</td>\n      <td>...</td>\n    </tr>\n    <tr>\n      <th>1995</th>\n      <td>female</td>\n      <td>reading_score</td>\n      <td>99</td>\n    </tr>\n    <tr>\n      <th>1996</th>\n      <td>male</td>\n      <td>reading_score</td>\n      <td>55</td>\n    </tr>\n    <tr>\n      <th>1997</th>\n      <td>female</td>\n      <td>reading_score</td>\n      <td>71</td>\n    </tr>\n    <tr>\n      <th>1998</th>\n      <td>female</td>\n      <td>reading_score</td>\n      <td>78</td>\n    </tr>\n    <tr>\n      <th>1999</th>\n      <td>female</td>\n      <td>reading_score</td>\n      <td>86</td>\n    </tr>\n  </tbody>\n</table>\n<p>2000 rows × 3 columns</p>\n</div>"
     },
     "execution_count": 4,
     "metadata": {},
     "output_type": "execute_result"
    }
   ],
   "source": [
    "pd.melt(student_perf, id_vars='gender', value_vars=['writing_score', 'reading_score'])"
   ]
  },
  {
   "cell_type": "code",
   "execution_count": 5,
   "id": "c4e818ec",
   "metadata": {
    "ExecuteTime": {
     "end_time": "2024-01-18T08:03:48.661688600Z",
     "start_time": "2024-01-18T08:03:48.581432100Z"
    }
   },
   "outputs": [
    {
     "data": {
      "text/plain": "       race/ethnicity          parental_level_of_education  \\\ngender         female     male                      female   \n0             group B      NaN           bachelor's degree   \n1             group C      NaN                some college   \n2             group B      NaN             master's degree   \n3                 NaN  group A                         NaN   \n4                 NaN  group C                         NaN   \n..                ...      ...                         ...   \n995           group E      NaN             master's degree   \n996               NaN  group C                         NaN   \n997           group C      NaN                 high school   \n998           group D      NaN                some college   \n999           group D      NaN                some college   \n\n                                   lunch                \\\ngender                male        female          male   \n0                      NaN      standard           NaN   \n1                      NaN      standard           NaN   \n2                      NaN      standard           NaN   \n3       associate's degree           NaN  free/reduced   \n4             some college           NaN      standard   \n..                     ...           ...           ...   \n995                    NaN      standard           NaN   \n996            high school           NaN  free/reduced   \n997                    NaN  free/reduced           NaN   \n998                    NaN      standard           NaN   \n999                    NaN  free/reduced           NaN   \n\n       test_preparation_course       math_score       reading_score        \\\ngender                  female  male     female  male        female  male   \n0                         none   NaN       72.0   NaN          72.0   NaN   \n1                    completed   NaN       69.0   NaN          90.0   NaN   \n2                         none   NaN       90.0   NaN          95.0   NaN   \n3                          NaN  none        NaN  47.0           NaN  57.0   \n4                          NaN  none        NaN  76.0           NaN  78.0   \n..                         ...   ...        ...   ...           ...   ...   \n995                  completed   NaN       88.0   NaN          99.0   NaN   \n996                        NaN  none        NaN  62.0           NaN  55.0   \n997                  completed   NaN       59.0   NaN          71.0   NaN   \n998                  completed   NaN       68.0   NaN          78.0   NaN   \n999                       none   NaN       77.0   NaN          86.0   NaN   \n\n       writing_score        \ngender        female  male  \n0               74.0   NaN  \n1               88.0   NaN  \n2               93.0   NaN  \n3                NaN  44.0  \n4                NaN  75.0  \n..               ...   ...  \n995             95.0   NaN  \n996              NaN  55.0  \n997             65.0   NaN  \n998             77.0   NaN  \n999             86.0   NaN  \n\n[1000 rows x 14 columns]",
      "text/html": "<div>\n<style scoped>\n    .dataframe tbody tr th:only-of-type {\n        vertical-align: middle;\n    }\n\n    .dataframe tbody tr th {\n        vertical-align: top;\n    }\n\n    .dataframe thead tr th {\n        text-align: left;\n    }\n</style>\n<table border=\"1\" class=\"dataframe\">\n  <thead>\n    <tr>\n      <th></th>\n      <th colspan=\"2\" halign=\"left\">race/ethnicity</th>\n      <th colspan=\"2\" halign=\"left\">parental_level_of_education</th>\n      <th colspan=\"2\" halign=\"left\">lunch</th>\n      <th colspan=\"2\" halign=\"left\">test_preparation_course</th>\n      <th colspan=\"2\" halign=\"left\">math_score</th>\n      <th colspan=\"2\" halign=\"left\">reading_score</th>\n      <th colspan=\"2\" halign=\"left\">writing_score</th>\n    </tr>\n    <tr>\n      <th>gender</th>\n      <th>female</th>\n      <th>male</th>\n      <th>female</th>\n      <th>male</th>\n      <th>female</th>\n      <th>male</th>\n      <th>female</th>\n      <th>male</th>\n      <th>female</th>\n      <th>male</th>\n      <th>female</th>\n      <th>male</th>\n      <th>female</th>\n      <th>male</th>\n    </tr>\n  </thead>\n  <tbody>\n    <tr>\n      <th>0</th>\n      <td>group B</td>\n      <td>NaN</td>\n      <td>bachelor's degree</td>\n      <td>NaN</td>\n      <td>standard</td>\n      <td>NaN</td>\n      <td>none</td>\n      <td>NaN</td>\n      <td>72.0</td>\n      <td>NaN</td>\n      <td>72.0</td>\n      <td>NaN</td>\n      <td>74.0</td>\n      <td>NaN</td>\n    </tr>\n    <tr>\n      <th>1</th>\n      <td>group C</td>\n      <td>NaN</td>\n      <td>some college</td>\n      <td>NaN</td>\n      <td>standard</td>\n      <td>NaN</td>\n      <td>completed</td>\n      <td>NaN</td>\n      <td>69.0</td>\n      <td>NaN</td>\n      <td>90.0</td>\n      <td>NaN</td>\n      <td>88.0</td>\n      <td>NaN</td>\n    </tr>\n    <tr>\n      <th>2</th>\n      <td>group B</td>\n      <td>NaN</td>\n      <td>master's degree</td>\n      <td>NaN</td>\n      <td>standard</td>\n      <td>NaN</td>\n      <td>none</td>\n      <td>NaN</td>\n      <td>90.0</td>\n      <td>NaN</td>\n      <td>95.0</td>\n      <td>NaN</td>\n      <td>93.0</td>\n      <td>NaN</td>\n    </tr>\n    <tr>\n      <th>3</th>\n      <td>NaN</td>\n      <td>group A</td>\n      <td>NaN</td>\n      <td>associate's degree</td>\n      <td>NaN</td>\n      <td>free/reduced</td>\n      <td>NaN</td>\n      <td>none</td>\n      <td>NaN</td>\n      <td>47.0</td>\n      <td>NaN</td>\n      <td>57.0</td>\n      <td>NaN</td>\n      <td>44.0</td>\n    </tr>\n    <tr>\n      <th>4</th>\n      <td>NaN</td>\n      <td>group C</td>\n      <td>NaN</td>\n      <td>some college</td>\n      <td>NaN</td>\n      <td>standard</td>\n      <td>NaN</td>\n      <td>none</td>\n      <td>NaN</td>\n      <td>76.0</td>\n      <td>NaN</td>\n      <td>78.0</td>\n      <td>NaN</td>\n      <td>75.0</td>\n    </tr>\n    <tr>\n      <th>...</th>\n      <td>...</td>\n      <td>...</td>\n      <td>...</td>\n      <td>...</td>\n      <td>...</td>\n      <td>...</td>\n      <td>...</td>\n      <td>...</td>\n      <td>...</td>\n      <td>...</td>\n      <td>...</td>\n      <td>...</td>\n      <td>...</td>\n      <td>...</td>\n    </tr>\n    <tr>\n      <th>995</th>\n      <td>group E</td>\n      <td>NaN</td>\n      <td>master's degree</td>\n      <td>NaN</td>\n      <td>standard</td>\n      <td>NaN</td>\n      <td>completed</td>\n      <td>NaN</td>\n      <td>88.0</td>\n      <td>NaN</td>\n      <td>99.0</td>\n      <td>NaN</td>\n      <td>95.0</td>\n      <td>NaN</td>\n    </tr>\n    <tr>\n      <th>996</th>\n      <td>NaN</td>\n      <td>group C</td>\n      <td>NaN</td>\n      <td>high school</td>\n      <td>NaN</td>\n      <td>free/reduced</td>\n      <td>NaN</td>\n      <td>none</td>\n      <td>NaN</td>\n      <td>62.0</td>\n      <td>NaN</td>\n      <td>55.0</td>\n      <td>NaN</td>\n      <td>55.0</td>\n    </tr>\n    <tr>\n      <th>997</th>\n      <td>group C</td>\n      <td>NaN</td>\n      <td>high school</td>\n      <td>NaN</td>\n      <td>free/reduced</td>\n      <td>NaN</td>\n      <td>completed</td>\n      <td>NaN</td>\n      <td>59.0</td>\n      <td>NaN</td>\n      <td>71.0</td>\n      <td>NaN</td>\n      <td>65.0</td>\n      <td>NaN</td>\n    </tr>\n    <tr>\n      <th>998</th>\n      <td>group D</td>\n      <td>NaN</td>\n      <td>some college</td>\n      <td>NaN</td>\n      <td>standard</td>\n      <td>NaN</td>\n      <td>completed</td>\n      <td>NaN</td>\n      <td>68.0</td>\n      <td>NaN</td>\n      <td>78.0</td>\n      <td>NaN</td>\n      <td>77.0</td>\n      <td>NaN</td>\n    </tr>\n    <tr>\n      <th>999</th>\n      <td>group D</td>\n      <td>NaN</td>\n      <td>some college</td>\n      <td>NaN</td>\n      <td>free/reduced</td>\n      <td>NaN</td>\n      <td>none</td>\n      <td>NaN</td>\n      <td>77.0</td>\n      <td>NaN</td>\n      <td>86.0</td>\n      <td>NaN</td>\n      <td>86.0</td>\n      <td>NaN</td>\n    </tr>\n  </tbody>\n</table>\n<p>1000 rows × 14 columns</p>\n</div>"
     },
     "execution_count": 5,
     "metadata": {},
     "output_type": "execute_result"
    }
   ],
   "source": [
    "pd.pivot(student_perf, columns='gender')"
   ]
  },
  {
   "cell_type": "code",
   "execution_count": 6,
   "id": "4abfb1d4",
   "metadata": {
    "ExecuteTime": {
     "end_time": "2024-01-18T08:03:48.661688600Z",
     "start_time": "2024-01-18T08:03:48.607559300Z"
    }
   },
   "outputs": [],
   "source": [
    "# replace whitespace with _ in columns\n",
    "\n"
   ]
  },
  {
   "cell_type": "code",
   "execution_count": 7,
   "id": "3892f041",
   "metadata": {
    "ExecuteTime": {
     "end_time": "2024-01-18T08:03:48.661688600Z",
     "start_time": "2024-01-18T08:03:48.608212400Z"
    }
   },
   "outputs": [
    {
     "data": {
      "text/plain": "(1000, 8)"
     },
     "execution_count": 7,
     "metadata": {},
     "output_type": "execute_result"
    }
   ],
   "source": [
    "student_perf.shape"
   ]
  },
  {
   "cell_type": "code",
   "execution_count": 8,
   "id": "32774ff5",
   "metadata": {
    "ExecuteTime": {
     "end_time": "2024-01-18T08:03:48.661688600Z",
     "start_time": "2024-01-18T08:03:48.612917700Z"
    }
   },
   "outputs": [],
   "source": [
    "# group by gender\n",
    "score_columns = student_perf.columns[student_perf.columns.str.endswith(\"_score\")]\n",
    "grouped = student_perf.groupby(by=\"gender\")[score_columns].mean()"
   ]
  },
  {
   "cell_type": "code",
   "execution_count": 9,
   "id": "3718bbc3",
   "metadata": {
    "ExecuteTime": {
     "end_time": "2024-01-18T08:03:48.661688600Z",
     "start_time": "2024-01-18T08:03:48.618101800Z"
    }
   },
   "outputs": [
    {
     "data": {
      "text/plain": "        math_score  reading_score  writing_score\ngender                                          \nfemale   63.633205      72.608108      72.467181\nmale     68.728216      65.473029      63.311203",
      "text/html": "<div>\n<style scoped>\n    .dataframe tbody tr th:only-of-type {\n        vertical-align: middle;\n    }\n\n    .dataframe tbody tr th {\n        vertical-align: top;\n    }\n\n    .dataframe thead th {\n        text-align: right;\n    }\n</style>\n<table border=\"1\" class=\"dataframe\">\n  <thead>\n    <tr style=\"text-align: right;\">\n      <th></th>\n      <th>math_score</th>\n      <th>reading_score</th>\n      <th>writing_score</th>\n    </tr>\n    <tr>\n      <th>gender</th>\n      <th></th>\n      <th></th>\n      <th></th>\n    </tr>\n  </thead>\n  <tbody>\n    <tr>\n      <th>female</th>\n      <td>63.633205</td>\n      <td>72.608108</td>\n      <td>72.467181</td>\n    </tr>\n    <tr>\n      <th>male</th>\n      <td>68.728216</td>\n      <td>65.473029</td>\n      <td>63.311203</td>\n    </tr>\n  </tbody>\n</table>\n</div>"
     },
     "execution_count": 9,
     "metadata": {},
     "output_type": "execute_result"
    }
   ],
   "source": [
    "student_perf.groupby(by='gender')[score_columns].mean()"
   ]
  },
  {
   "cell_type": "code",
   "execution_count": 10,
   "id": "61bfbeb1",
   "metadata": {
    "ExecuteTime": {
     "end_time": "2024-01-18T08:03:48.661688600Z",
     "start_time": "2024-01-18T08:03:48.630859500Z"
    }
   },
   "outputs": [],
   "source": [
    "score_columns = student_perf.columns[student_perf.columns.str.endswith(\"_score\")]"
   ]
  },
  {
   "cell_type": "code",
   "execution_count": 11,
   "id": "f2c5c2fa",
   "metadata": {
    "ExecuteTime": {
     "end_time": "2024-01-18T08:03:48.661688600Z",
     "start_time": "2024-01-18T08:03:48.631371700Z"
    }
   },
   "outputs": [
    {
     "data": {
      "text/plain": "        math_score  reading_score  writing_score\ngender                                          \nfemale   63.633205      72.608108      72.467181\nmale     68.728216      65.473029      63.311203",
      "text/html": "<div>\n<style scoped>\n    .dataframe tbody tr th:only-of-type {\n        vertical-align: middle;\n    }\n\n    .dataframe tbody tr th {\n        vertical-align: top;\n    }\n\n    .dataframe thead th {\n        text-align: right;\n    }\n</style>\n<table border=\"1\" class=\"dataframe\">\n  <thead>\n    <tr style=\"text-align: right;\">\n      <th></th>\n      <th>math_score</th>\n      <th>reading_score</th>\n      <th>writing_score</th>\n    </tr>\n    <tr>\n      <th>gender</th>\n      <th></th>\n      <th></th>\n      <th></th>\n    </tr>\n  </thead>\n  <tbody>\n    <tr>\n      <th>female</th>\n      <td>63.633205</td>\n      <td>72.608108</td>\n      <td>72.467181</td>\n    </tr>\n    <tr>\n      <th>male</th>\n      <td>68.728216</td>\n      <td>65.473029</td>\n      <td>63.311203</td>\n    </tr>\n  </tbody>\n</table>\n</div>"
     },
     "execution_count": 11,
     "metadata": {},
     "output_type": "execute_result"
    }
   ],
   "source": [
    "grouped"
   ]
  },
  {
   "cell_type": "code",
   "execution_count": 12,
   "id": "69bd52d0",
   "metadata": {
    "ExecuteTime": {
     "end_time": "2024-01-18T08:03:48.661688600Z",
     "start_time": "2024-01-18T08:03:48.640938800Z"
    }
   },
   "outputs": [],
   "source": [
    "# group by gender and parental_level_of_education\n",
    "\n",
    "multiindex_group = student_perf.groupby(by=[\"gender\", \"parental_level_of_education\"])[score_columns].mean()"
   ]
  },
  {
   "cell_type": "code",
   "execution_count": 13,
   "id": "cf34e803",
   "metadata": {
    "ExecuteTime": {
     "end_time": "2024-01-18T08:03:48.718089200Z",
     "start_time": "2024-01-18T08:03:48.647399600Z"
    }
   },
   "outputs": [
    {
     "data": {
      "text/plain": "                                    math_score  reading_score  writing_score\ngender parental_level_of_education                                          \nfemale associate's degree            65.250000      74.120690      74.000000\n       bachelor's degree             68.349206      77.285714      78.380952\n       high school                   59.351064      68.202128      66.691489\n       master's degree               66.500000      76.805556      77.638889\n       some college                  65.406780      73.550847      74.050847\n       some high school              59.296703      69.109890      68.285714\nmale   associate's degree            70.764151      67.433962      65.405660\n       bachelor's degree             70.581818      68.090909      67.654545\n       high school                   64.705882      61.480392      58.539216\n       master's degree               74.826087      73.130435      72.608696\n       some college                  69.009259      64.990741      63.148148\n       some high school              67.840909      64.693182      61.375000",
      "text/html": "<div>\n<style scoped>\n    .dataframe tbody tr th:only-of-type {\n        vertical-align: middle;\n    }\n\n    .dataframe tbody tr th {\n        vertical-align: top;\n    }\n\n    .dataframe thead th {\n        text-align: right;\n    }\n</style>\n<table border=\"1\" class=\"dataframe\">\n  <thead>\n    <tr style=\"text-align: right;\">\n      <th></th>\n      <th></th>\n      <th>math_score</th>\n      <th>reading_score</th>\n      <th>writing_score</th>\n    </tr>\n    <tr>\n      <th>gender</th>\n      <th>parental_level_of_education</th>\n      <th></th>\n      <th></th>\n      <th></th>\n    </tr>\n  </thead>\n  <tbody>\n    <tr>\n      <th rowspan=\"6\" valign=\"top\">female</th>\n      <th>associate's degree</th>\n      <td>65.250000</td>\n      <td>74.120690</td>\n      <td>74.000000</td>\n    </tr>\n    <tr>\n      <th>bachelor's degree</th>\n      <td>68.349206</td>\n      <td>77.285714</td>\n      <td>78.380952</td>\n    </tr>\n    <tr>\n      <th>high school</th>\n      <td>59.351064</td>\n      <td>68.202128</td>\n      <td>66.691489</td>\n    </tr>\n    <tr>\n      <th>master's degree</th>\n      <td>66.500000</td>\n      <td>76.805556</td>\n      <td>77.638889</td>\n    </tr>\n    <tr>\n      <th>some college</th>\n      <td>65.406780</td>\n      <td>73.550847</td>\n      <td>74.050847</td>\n    </tr>\n    <tr>\n      <th>some high school</th>\n      <td>59.296703</td>\n      <td>69.109890</td>\n      <td>68.285714</td>\n    </tr>\n    <tr>\n      <th rowspan=\"6\" valign=\"top\">male</th>\n      <th>associate's degree</th>\n      <td>70.764151</td>\n      <td>67.433962</td>\n      <td>65.405660</td>\n    </tr>\n    <tr>\n      <th>bachelor's degree</th>\n      <td>70.581818</td>\n      <td>68.090909</td>\n      <td>67.654545</td>\n    </tr>\n    <tr>\n      <th>high school</th>\n      <td>64.705882</td>\n      <td>61.480392</td>\n      <td>58.539216</td>\n    </tr>\n    <tr>\n      <th>master's degree</th>\n      <td>74.826087</td>\n      <td>73.130435</td>\n      <td>72.608696</td>\n    </tr>\n    <tr>\n      <th>some college</th>\n      <td>69.009259</td>\n      <td>64.990741</td>\n      <td>63.148148</td>\n    </tr>\n    <tr>\n      <th>some high school</th>\n      <td>67.840909</td>\n      <td>64.693182</td>\n      <td>61.375000</td>\n    </tr>\n  </tbody>\n</table>\n</div>"
     },
     "execution_count": 13,
     "metadata": {},
     "output_type": "execute_result"
    }
   ],
   "source": [
    "student_perf.groupby(by=[\"gender\", \"parental_level_of_education\"])[score_columns].mean()"
   ]
  },
  {
   "cell_type": "code",
   "execution_count": 13,
   "id": "9a44b32d",
   "metadata": {
    "ExecuteTime": {
     "end_time": "2024-01-18T08:03:48.718089200Z",
     "start_time": "2024-01-18T08:03:48.661688600Z"
    }
   },
   "outputs": [],
   "source": []
  }
 ],
 "metadata": {
  "kernelspec": {
   "display_name": "Python 3 (ipykernel)",
   "language": "python",
   "name": "python3"
  },
  "language_info": {
   "codemirror_mode": {
    "name": "ipython",
    "version": 3
   },
   "file_extension": ".py",
   "mimetype": "text/x-python",
   "name": "python",
   "nbconvert_exporter": "python",
   "pygments_lexer": "ipython3",
   "version": "3.11.2"
  }
 },
 "nbformat": 4,
 "nbformat_minor": 5
}

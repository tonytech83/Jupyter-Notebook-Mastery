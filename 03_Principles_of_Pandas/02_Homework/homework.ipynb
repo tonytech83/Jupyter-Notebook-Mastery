{
 "cells": [
  {
   "cell_type": "code",
   "execution_count": 4,
   "id": "initial_id",
   "metadata": {
    "collapsed": true,
    "ExecuteTime": {
     "end_time": "2024-01-07T06:09:38.311753700Z",
     "start_time": "2024-01-07T06:09:37.059974700Z"
    }
   },
   "outputs": [],
   "source": [
    "import pandas as pd"
   ]
  },
  {
   "cell_type": "markdown",
   "source": [
    "# 1.\tCreating Series\n",
    "Write a program using Pandas that:\n",
    "- Read count of the numbers (N) from the first line of the console\n",
    "- Read as input a sequence of N integers, each integer on separate line\n",
    "- Transform it into Pandas Series and prints them"
   ],
   "metadata": {
    "collapsed": false
   },
   "id": "f2bcf3f1d4d2d3c3"
  },
  {
   "cell_type": "code",
   "execution_count": 5,
   "outputs": [
    {
     "name": "stdout",
     "output_type": "stream",
     "text": [
      "Series([], dtype: object)\n"
     ]
    }
   ],
   "source": [
    "n = int(input())\n",
    "\n",
    "input_sequence = [int(input()) for _ in range(n)]\n",
    "pd_series = pd.Series(input_sequence)\n",
    "\n",
    "print(pd_series)"
   ],
   "metadata": {
    "collapsed": false,
    "ExecuteTime": {
     "end_time": "2024-01-06T08:39:58.471081600Z",
     "start_time": "2024-01-06T08:39:56.986252500Z"
    }
   },
   "id": "c0aad08abf6f546"
  },
  {
   "cell_type": "markdown",
   "source": [
    "# 2. Doubled Series\n",
    "Write a program using Pandas that:\n",
    "- Read count of the numbers (N) from the first line of the console\n",
    "- Read as input a sequence of N integers, each integer on separate line\n",
    "- Transform it into Pandas Series\n",
    "- Multiply all the elements by 2\n",
    "- Print the series\n"
   ],
   "metadata": {
    "collapsed": false
   },
   "id": "8d9528be65b4a0fb"
  },
  {
   "cell_type": "code",
   "execution_count": 6,
   "outputs": [
    {
     "data": {
      "text/plain": "0    10\n1    12\ndtype: int64"
     },
     "execution_count": 6,
     "metadata": {},
     "output_type": "execute_result"
    }
   ],
   "source": [
    "n = int(input())\n",
    "\n",
    "input_sequence = [int(input()) for _ in range(n)]\n",
    "    \n",
    "pd_series = pd.Series(input_sequence)\n",
    "pd_series * 2"
   ],
   "metadata": {
    "collapsed": false,
    "ExecuteTime": {
     "end_time": "2024-01-06T08:43:30.260891600Z",
     "start_time": "2024-01-06T08:43:27.073565900Z"
    }
   },
   "id": "f06b9800104ef2eb"
  },
  {
   "cell_type": "markdown",
   "source": [
    "# 3. Find Duplicates\n",
    "Write a program using Pandas that:\n",
    "- Read count of the numbers (N) from the first line of the console\n",
    "- Read as input a sequence of N integers, each integer on separate line\n",
    "- Transform it into Pandas Series\n",
    "- Print whether there are duplicates in the Series or not (True or False)\n"
   ],
   "metadata": {
    "collapsed": false
   },
   "id": "432564011da282a3"
  },
  {
   "cell_type": "code",
   "execution_count": 7,
   "outputs": [
    {
     "data": {
      "text/plain": "False"
     },
     "execution_count": 7,
     "metadata": {},
     "output_type": "execute_result"
    }
   ],
   "source": [
    "n = int(input())\n",
    "\n",
    "input_sequence = [int(input()) for _ in range(n)]\n",
    "pd_series = pd.Series(input_sequence)\n",
    "\n",
    "pd_series.duplicated().any()"
   ],
   "metadata": {
    "collapsed": false,
    "ExecuteTime": {
     "end_time": "2024-01-07T06:12:40.907959800Z",
     "start_time": "2024-01-07T06:12:36.834201300Z"
    }
   },
   "id": "d6e8203179c7475"
  },
  {
   "cell_type": "markdown",
   "source": [
    "# 4. Drop Duplicates\n",
    "Write a program using Pandas that:\n",
    "- Read count of the numbers (N) from the first line of the console\n",
    "- Read as input a sequence of N integers, each integer on separate line\n",
    "- Transform it into Pandas Series\n",
    "- Drop any duplicates from the Series\n",
    "- Print the Series\n"
   ],
   "metadata": {
    "collapsed": false
   },
   "id": "628bdb5592a46cbb"
  },
  {
   "cell_type": "code",
   "execution_count": 9,
   "outputs": [
    {
     "data": {
      "text/plain": "0     2\n1     6\n2    88\n3     8\ndtype: int64"
     },
     "execution_count": 9,
     "metadata": {},
     "output_type": "execute_result"
    }
   ],
   "source": [
    "n = int(input())\n",
    "\n",
    "input_sequence = [int(input()) for _ in range(n)]\n",
    "pd_series = pd.Series(input_sequence)\n",
    "\n",
    "pd_series.drop_duplicates()"
   ],
   "metadata": {
    "collapsed": false,
    "ExecuteTime": {
     "end_time": "2024-01-07T06:15:53.480835600Z",
     "start_time": "2024-01-07T06:15:44.416113100Z"
    }
   },
   "id": "368b8d3febfe7dca"
  }
 ],
 "metadata": {
  "kernelspec": {
   "display_name": "Python 3",
   "language": "python",
   "name": "python3"
  },
  "language_info": {
   "codemirror_mode": {
    "name": "ipython",
    "version": 2
   },
   "file_extension": ".py",
   "mimetype": "text/x-python",
   "name": "python",
   "nbconvert_exporter": "python",
   "pygments_lexer": "ipython2",
   "version": "2.7.6"
  }
 },
 "nbformat": 4,
 "nbformat_minor": 5
}

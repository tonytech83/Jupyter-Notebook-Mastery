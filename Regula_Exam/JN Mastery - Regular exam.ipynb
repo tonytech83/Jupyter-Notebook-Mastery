{
 "cells": [
  {
   "cell_type": "code",
   "execution_count": 30,
   "metadata": {
    "_kg_hide-input": true,
    "execution": {
     "iopub.execute_input": "2021-04-01T06:48:13.660285Z",
     "iopub.status.busy": "2021-04-01T06:48:13.659642Z",
     "iopub.status.idle": "2021-04-01T06:48:15.361302Z",
     "shell.execute_reply": "2021-04-01T06:48:15.360696Z"
    },
    "papermill": {
     "duration": 1.742393,
     "end_time": "2021-04-01T06:48:15.361447",
     "exception": false,
     "start_time": "2021-04-01T06:48:13.619054",
     "status": "completed"
    },
    "slideshow": {
     "slide_type": "skip"
    },
    "tags": [],
    "ExecuteTime": {
     "end_time": "2024-01-27T10:40:09.934431500Z",
     "start_time": "2024-01-27T10:40:09.514400700Z"
    }
   },
   "outputs": [],
   "source": [
    "# Importing libs\n",
    "import pandas as pd\n",
    "import numpy as np\n",
    "import matplotlib.pyplot as plt\n",
    "%matplotlib inline\n",
    "import datetime as dt"
   ]
  },
  {
   "cell_type": "markdown",
   "metadata": {},
   "source": [
    "# <center>Jupyter Notebook Matery - Regular exam"
   ]
  },
  {
   "cell_type": "markdown",
   "metadata": {},
   "source": [
    "# PART ONE - WORKING WITH DATA"
   ]
  },
  {
   "cell_type": "markdown",
   "metadata": {},
   "source": [
    "You are provided with a dataset which contains different characteristics of the content found on Netflix. There are several goals that you should achieve: \n",
    "\n",
    "- explore the relative share of TV Shows/Movies on Netflix, \n",
    "- find out what are the top 10 providers (countries) of content on Netflix, \n",
    "- explore how content has been added over the years.\n",
    "\n",
    "You will find cells named `TASK`. They define what task you should perform. Under each task you will find a cell, containing the comment _#YOUR CODE HERE_ in which you should write your solution.\n",
    "\n",
    "You will encounter `HELPER CELLS` which you should just run.\n",
    "\n",
    "**Good luck!** :)"
   ]
  },
  {
   "cell_type": "markdown",
   "metadata": {},
   "source": [
    "## Reading the data"
   ]
  },
  {
   "cell_type": "markdown",
   "metadata": {},
   "source": [
    "<b><font color='#8B0000'>TASK</font></b>\n",
    "\n",
    "Read the dataset as a Pandas dataframe and show the **first three rows** of it.\n",
    "\n",
    "Store the dataset in the variable `netflix_data`."
   ]
  },
  {
   "cell_type": "code",
   "execution_count": 31,
   "metadata": {
    "ExecuteTime": {
     "end_time": "2024-01-27T10:40:10.364292500Z",
     "start_time": "2024-01-27T10:40:09.550410Z"
    }
   },
   "outputs": [
    {
     "data": {
      "text/plain": "  show_id     type  title           director  \\\n0      s1  TV Show     3%                NaN   \n1      s2    Movie   7:19  Jorge Michel Grau   \n2      s3    Movie  23:59       Gilbert Chan   \n\n                                                cast    country  \\\n0  João Miguel, Bianca Comparato, Michel Gomes, R...     Brazil   \n1  Demián Bichir, Héctor Bonilla, Oscar Serrano, ...     Mexico   \n2  Tedd Chan, Stella Chung, Henley Hii, Lawrence ...  Singapore   \n\n          date_added  release_year rating   duration  \\\n0    August 14, 2020          2020  TV-MA  4 Seasons   \n1  December 23, 2016          2016  TV-MA     93 min   \n2  December 20, 2018          2011      R     78 min   \n\n                                           listed_in  \\\n0  International TV Shows, TV Dramas, TV Sci-Fi &...   \n1                       Dramas, International Movies   \n2                Horror Movies, International Movies   \n\n                                         description  \n0  In a future where the elite inhabit an island ...  \n1  After a devastating earthquake hits Mexico Cit...  \n2  When an army recruit is found dead, his fellow...  ",
      "text/html": "<div>\n<style scoped>\n    .dataframe tbody tr th:only-of-type {\n        vertical-align: middle;\n    }\n\n    .dataframe tbody tr th {\n        vertical-align: top;\n    }\n\n    .dataframe thead th {\n        text-align: right;\n    }\n</style>\n<table border=\"1\" class=\"dataframe\">\n  <thead>\n    <tr style=\"text-align: right;\">\n      <th></th>\n      <th>show_id</th>\n      <th>type</th>\n      <th>title</th>\n      <th>director</th>\n      <th>cast</th>\n      <th>country</th>\n      <th>date_added</th>\n      <th>release_year</th>\n      <th>rating</th>\n      <th>duration</th>\n      <th>listed_in</th>\n      <th>description</th>\n    </tr>\n  </thead>\n  <tbody>\n    <tr>\n      <th>0</th>\n      <td>s1</td>\n      <td>TV Show</td>\n      <td>3%</td>\n      <td>NaN</td>\n      <td>João Miguel, Bianca Comparato, Michel Gomes, R...</td>\n      <td>Brazil</td>\n      <td>August 14, 2020</td>\n      <td>2020</td>\n      <td>TV-MA</td>\n      <td>4 Seasons</td>\n      <td>International TV Shows, TV Dramas, TV Sci-Fi &amp;...</td>\n      <td>In a future where the elite inhabit an island ...</td>\n    </tr>\n    <tr>\n      <th>1</th>\n      <td>s2</td>\n      <td>Movie</td>\n      <td>7:19</td>\n      <td>Jorge Michel Grau</td>\n      <td>Demián Bichir, Héctor Bonilla, Oscar Serrano, ...</td>\n      <td>Mexico</td>\n      <td>December 23, 2016</td>\n      <td>2016</td>\n      <td>TV-MA</td>\n      <td>93 min</td>\n      <td>Dramas, International Movies</td>\n      <td>After a devastating earthquake hits Mexico Cit...</td>\n    </tr>\n    <tr>\n      <th>2</th>\n      <td>s3</td>\n      <td>Movie</td>\n      <td>23:59</td>\n      <td>Gilbert Chan</td>\n      <td>Tedd Chan, Stella Chung, Henley Hii, Lawrence ...</td>\n      <td>Singapore</td>\n      <td>December 20, 2018</td>\n      <td>2011</td>\n      <td>R</td>\n      <td>78 min</td>\n      <td>Horror Movies, International Movies</td>\n      <td>When an army recruit is found dead, his fellow...</td>\n    </tr>\n  </tbody>\n</table>\n</div>"
     },
     "execution_count": 31,
     "metadata": {},
     "output_type": "execute_result"
    }
   ],
   "source": [
    "#YOUR CODE HERE\n",
    "netflix_data = pd.read_csv('netflix_titles.csv')\n",
    "netflix_data.head(3)"
   ]
  },
  {
   "cell_type": "markdown",
   "metadata": {},
   "source": [
    "<b><font color='#8B0000'>TASK</font></b>\n",
    "\n",
    "Present the number of rows and number of columns in the dataset in the following format:<br><br> \"Number of rows: {rows}, number of columns: {columns}\""
   ]
  },
  {
   "cell_type": "code",
   "execution_count": 32,
   "metadata": {
    "_kg_hide-input": true,
    "execution": {
     "iopub.execute_input": "2021-04-01T06:48:15.434238Z",
     "iopub.status.busy": "2021-04-01T06:48:15.433521Z",
     "iopub.status.idle": "2021-04-01T06:48:15.593435Z",
     "shell.execute_reply": "2021-04-01T06:48:15.592884Z"
    },
    "papermill": {
     "duration": 0.198024,
     "end_time": "2021-04-01T06:48:15.593585",
     "exception": false,
     "start_time": "2021-04-01T06:48:15.395561",
     "status": "completed"
    },
    "slideshow": {
     "slide_type": "slide"
    },
    "tags": [],
    "ExecuteTime": {
     "end_time": "2024-01-27T10:40:10.368811100Z",
     "start_time": "2024-01-27T10:40:09.629711500Z"
    }
   },
   "outputs": [
    {
     "name": "stdout",
     "output_type": "stream",
     "text": [
      "Number of rows: 7787, number of columns: 12\n"
     ]
    }
   ],
   "source": [
    "#YOUR CODE HERE\n",
    "rows = netflix_data.shape[0]\n",
    "columns = netflix_data.shape[1]\n",
    "\n",
    "print(f'Number of rows: {rows}, number of columns: {columns}')"
   ]
  },
  {
   "cell_type": "markdown",
   "metadata": {
    "slideshow": {
     "slide_type": "slide"
    }
   },
   "source": [
    "## Find missing data"
   ]
  },
  {
   "cell_type": "markdown",
   "metadata": {},
   "source": [
    "<b><font color='#8B0000'>TASK</font></b>\n",
    "\n",
    "On separate lines, print the null rate of every column that contains null values in the following format: <br><br> \n",
    "\n",
    "\"{column1} null rate: {null_rate1}\" <br>\n",
    "\"{column2} null rate: {null_rate2}\" <br>\n",
    "..."
   ]
  },
  {
   "cell_type": "code",
   "execution_count": 33,
   "metadata": {
    "_kg_hide-input": true,
    "execution": {
     "iopub.execute_input": "2021-04-01T06:48:15.681390Z",
     "iopub.status.busy": "2021-04-01T06:48:15.680740Z",
     "iopub.status.idle": "2021-04-01T06:48:15.684900Z",
     "shell.execute_reply": "2021-04-01T06:48:15.685841Z"
    },
    "papermill": {
     "duration": 0.05858,
     "end_time": "2021-04-01T06:48:15.686071",
     "exception": false,
     "start_time": "2021-04-01T06:48:15.627491",
     "status": "completed"
    },
    "slideshow": {
     "slide_type": "fragment"
    },
    "tags": [],
    "ExecuteTime": {
     "end_time": "2024-01-27T10:40:10.400338200Z",
     "start_time": "2024-01-27T10:40:09.637105900Z"
    }
   },
   "outputs": [
    {
     "name": "stdout",
     "output_type": "stream",
     "text": [
      "director null rate: 0.30679337357133685\n",
      "cast null rate: 0.09220495697958135\n",
      "country null rate: 0.0651085141903172\n",
      "date_added null rate: 0.0012841916013869269\n",
      "rating null rate: 0.0008989341209708489\n"
     ]
    }
   ],
   "source": [
    "#YOUR CODE HERE\n",
    "for col in netflix_data.columns:\n",
    "    if netflix_data[col].isna().any():\n",
    "        null_rate = netflix_data[col].isna().sum() / len(netflix_data[col])\n",
    "        print(f'{col} null rate: {null_rate}')"
   ]
  },
  {
   "cell_type": "markdown",
   "metadata": {
    "papermill": {
     "duration": 0.034047,
     "end_time": "2021-04-01T06:48:15.823924",
     "exception": false,
     "start_time": "2021-04-01T06:48:15.789877",
     "status": "completed"
    },
    "slideshow": {
     "slide_type": "slide"
    },
    "tags": []
   },
   "source": [
    "## Dealing with the missing data"
   ]
  },
  {
   "cell_type": "markdown",
   "metadata": {},
   "source": [
    "<b><font color='#8B0000'>TASK</font></b>\n",
    "\n",
    "Replace blank countries with the mode (most frequently ocurring) country."
   ]
  },
  {
   "cell_type": "code",
   "execution_count": 34,
   "metadata": {
    "ExecuteTime": {
     "end_time": "2024-01-27T10:40:10.433340800Z",
     "start_time": "2024-01-27T10:40:09.657081700Z"
    }
   },
   "outputs": [
    {
     "data": {
      "text/plain": "True"
     },
     "execution_count": 34,
     "metadata": {},
     "output_type": "execute_result"
    }
   ],
   "source": [
    "#YOUR CODE HERE\n",
    "most_frequently_occurring_country = netflix_data['country'].mode()[0]\n",
    "netflix_data.country.isna().any()"
   ]
  },
  {
   "cell_type": "code",
   "execution_count": 35,
   "outputs": [
    {
     "data": {
      "text/plain": "False"
     },
     "execution_count": 35,
     "metadata": {},
     "output_type": "execute_result"
    }
   ],
   "source": [
    "netflix_data.country = netflix_data.country.fillna(most_frequently_occurring_country)\n",
    "netflix_data.country.isna().any()"
   ],
   "metadata": {
    "collapsed": false,
    "ExecuteTime": {
     "end_time": "2024-01-27T10:40:10.438346900Z",
     "start_time": "2024-01-27T10:40:09.666356100Z"
    }
   }
  },
  {
   "cell_type": "markdown",
   "metadata": {},
   "source": [
    "<b><font color='#8B0000'>TASK</font></b>\n",
    "\n",
    "Replace the missing values in the _director_ column with the string **'No Data'**."
   ]
  },
  {
   "cell_type": "code",
   "execution_count": 36,
   "metadata": {
    "ExecuteTime": {
     "end_time": "2024-01-27T10:40:10.439345600Z",
     "start_time": "2024-01-27T10:40:09.676416300Z"
    }
   },
   "outputs": [
    {
     "data": {
      "text/plain": "True"
     },
     "execution_count": 36,
     "metadata": {},
     "output_type": "execute_result"
    }
   ],
   "source": [
    "#YOUR CODE HERE\n",
    "netflix_data.director.isna().any()"
   ]
  },
  {
   "cell_type": "code",
   "execution_count": 37,
   "outputs": [
    {
     "data": {
      "text/plain": "False"
     },
     "execution_count": 37,
     "metadata": {},
     "output_type": "execute_result"
    }
   ],
   "source": [
    "netflix_data.director = netflix_data.director.fillna('No Data')\n",
    "netflix_data.director.isna().any()"
   ],
   "metadata": {
    "collapsed": false,
    "ExecuteTime": {
     "end_time": "2024-01-27T10:40:10.439345600Z",
     "start_time": "2024-01-27T10:40:09.684822700Z"
    }
   }
  },
  {
   "cell_type": "markdown",
   "metadata": {},
   "source": [
    "<b><font color='#8B0000'>TASK</font></b>\n",
    "\n",
    "Replace the missing values in the _cast_ column with the string **'No Data'**."
   ]
  },
  {
   "cell_type": "code",
   "execution_count": 38,
   "metadata": {
    "ExecuteTime": {
     "end_time": "2024-01-27T10:40:10.468341900Z",
     "start_time": "2024-01-27T10:40:09.696292300Z"
    }
   },
   "outputs": [
    {
     "data": {
      "text/plain": "True"
     },
     "execution_count": 38,
     "metadata": {},
     "output_type": "execute_result"
    }
   ],
   "source": [
    "#YOUR CODE HERE\n",
    "netflix_data.cast.isna().any()"
   ]
  },
  {
   "cell_type": "code",
   "execution_count": 39,
   "outputs": [
    {
     "data": {
      "text/plain": "False"
     },
     "execution_count": 39,
     "metadata": {},
     "output_type": "execute_result"
    }
   ],
   "source": [
    "netflix_data.cast = netflix_data.cast.fillna('No Data')\n",
    "netflix_data.cast.isna().any()"
   ],
   "metadata": {
    "collapsed": false,
    "ExecuteTime": {
     "end_time": "2024-01-27T10:40:10.478354Z",
     "start_time": "2024-01-27T10:40:09.708237900Z"
    }
   }
  },
  {
   "cell_type": "markdown",
   "metadata": {},
   "source": [
    "<b><font color='#8B0000'>TASK</font></b>\n",
    "\n",
    "Drop all other columns with missing values."
   ]
  },
  {
   "cell_type": "markdown",
   "source": [
    "<font color='#3aa832'>Store the columns with missing values in variable and remove them form DataFrame, while retaining the 'date_added' column for later use</color>"
   ],
   "metadata": {
    "collapsed": false
   }
  },
  {
   "cell_type": "code",
   "execution_count": 40,
   "metadata": {
    "ExecuteTime": {
     "end_time": "2024-01-27T10:40:10.508549600Z",
     "start_time": "2024-01-27T10:40:09.722339900Z"
    }
   },
   "outputs": [
    {
     "data": {
      "text/plain": "Index(['date_added', 'rating'], dtype='object')"
     },
     "execution_count": 40,
     "metadata": {},
     "output_type": "execute_result"
    }
   ],
   "source": [
    "#YOUR CODE HERE\n",
    "columns_with_missing_values = netflix_data.columns[netflix_data.isna().any()]\n",
    "columns_with_missing_values"
   ]
  },
  {
   "cell_type": "code",
   "execution_count": 41,
   "outputs": [
    {
     "data": {
      "text/plain": "Index(['date_added'], dtype='object')"
     },
     "execution_count": 41,
     "metadata": {},
     "output_type": "execute_result"
    }
   ],
   "source": [
    "columns_to_remove = [col for col in columns_with_missing_values if col != 'date_added']\n",
    "netflix_data.drop(columns_to_remove, axis=1, inplace=True)\n",
    "netflix_data.columns[netflix_data.isna().any()]"
   ],
   "metadata": {
    "collapsed": false,
    "ExecuteTime": {
     "end_time": "2024-01-27T10:40:10.545347800Z",
     "start_time": "2024-01-27T10:40:09.738332900Z"
    }
   }
  },
  {
   "cell_type": "markdown",
   "metadata": {},
   "source": [
    "<b><font color='#8B0000'>TASK</font></b>\n",
    "\n",
    "Drop all the duplicates in the data."
   ]
  },
  {
   "cell_type": "code",
   "execution_count": 42,
   "metadata": {
    "execution": {
     "iopub.execute_input": "2021-04-01T06:48:15.917484Z",
     "iopub.status.busy": "2021-04-01T06:48:15.916686Z",
     "iopub.status.idle": "2021-04-01T06:48:15.971479Z",
     "shell.execute_reply": "2021-04-01T06:48:15.970878Z"
    },
    "papermill": {
     "duration": 0.113267,
     "end_time": "2021-04-01T06:48:15.971625",
     "exception": false,
     "start_time": "2021-04-01T06:48:15.858358",
     "status": "completed"
    },
    "slideshow": {
     "slide_type": "skip"
    },
    "tags": [],
    "ExecuteTime": {
     "end_time": "2024-01-27T10:40:10.579365100Z",
     "start_time": "2024-01-27T10:40:09.754037Z"
    }
   },
   "outputs": [
    {
     "data": {
      "text/plain": "False"
     },
     "execution_count": 42,
     "metadata": {},
     "output_type": "execute_result"
    }
   ],
   "source": [
    "#YOUR CODE HERE\n",
    "netflix_data = netflix_data.drop_duplicates()\n",
    "netflix_data.duplicated().any()"
   ]
  },
  {
   "cell_type": "markdown",
   "metadata": {},
   "source": [
    "<b><font color='#8B0000'>TASK</font></b>\n",
    "\n",
    "Drop the rows where country is a null value."
   ]
  },
  {
   "cell_type": "code",
   "execution_count": 43,
   "metadata": {
    "ExecuteTime": {
     "end_time": "2024-01-27T10:40:10.580361400Z",
     "start_time": "2024-01-27T10:40:09.796285800Z"
    }
   },
   "outputs": [
    {
     "data": {
      "text/plain": "False"
     },
     "execution_count": 43,
     "metadata": {},
     "output_type": "execute_result"
    }
   ],
   "source": [
    "#YOUR CODE HERE\n",
    "netflix_data = netflix_data.dropna(subset=['country'])\n",
    "netflix_data.country.isna().any()"
   ]
  },
  {
   "cell_type": "markdown",
   "metadata": {},
   "source": [
    "<b><font color='#8B0000'>TASK</font></b>\n",
    "\n",
    "Create a new column in the dataframe called 'first_country'. It should contain only the first country from the 'country' column (up to the first comma)."
   ]
  },
  {
   "cell_type": "code",
   "execution_count": 44,
   "metadata": {
    "ExecuteTime": {
     "end_time": "2024-01-27T10:40:10.610693100Z",
     "start_time": "2024-01-27T10:40:09.805581600Z"
    }
   },
   "outputs": [
    {
     "data": {
      "text/plain": "     show_id     type                                    title  \\\n0         s1  TV Show                                       3%   \n1         s2    Movie                                     7:19   \n2         s3    Movie                                    23:59   \n3         s4    Movie                                        9   \n4         s5    Movie                                       21   \n...      ...      ...                                      ...   \n7782   s7783    Movie                                     Zozo   \n7783   s7784    Movie                                   Zubaan   \n7784   s7785    Movie                        Zulu Man in Japan   \n7785   s7786  TV Show                    Zumbo's Just Desserts   \n7786   s7787    Movie  ZZ TOP: THAT LITTLE OL' BAND FROM TEXAS   \n\n               director                                               cast  \\\n0               No Data  João Miguel, Bianca Comparato, Michel Gomes, R...   \n1     Jorge Michel Grau  Demián Bichir, Héctor Bonilla, Oscar Serrano, ...   \n2          Gilbert Chan  Tedd Chan, Stella Chung, Henley Hii, Lawrence ...   \n3           Shane Acker  Elijah Wood, John C. Reilly, Jennifer Connelly...   \n4        Robert Luketic  Jim Sturgess, Kevin Spacey, Kate Bosworth, Aar...   \n...                 ...                                                ...   \n7782        Josef Fares  Imad Creidi, Antoinette Turk, Elias Gergi, Car...   \n7783        Mozez Singh  Vicky Kaushal, Sarah-Jane Dias, Raaghav Chanan...   \n7784            No Data                                            Nasty C   \n7785            No Data                         Adriano Zumbo, Rachel Khoo   \n7786           Sam Dunn                                            No Data   \n\n                                                country          date_added  \\\n0                                                Brazil     August 14, 2020   \n1                                                Mexico   December 23, 2016   \n2                                             Singapore   December 20, 2018   \n3                                         United States   November 16, 2017   \n4                                         United States     January 1, 2020   \n...                                                 ...                 ...   \n7782  Sweden, Czech Republic, United Kingdom, Denmar...    October 19, 2020   \n7783                                              India       March 2, 2019   \n7784                                      United States  September 25, 2020   \n7785                                          Australia    October 31, 2020   \n7786              United Kingdom, Canada, United States       March 1, 2020   \n\n      release_year   duration  \\\n0             2020  4 Seasons   \n1             2016     93 min   \n2             2011     78 min   \n3             2009     80 min   \n4             2008    123 min   \n...            ...        ...   \n7782          2005     99 min   \n7783          2015    111 min   \n7784          2019     44 min   \n7785          2019   1 Season   \n7786          2019     90 min   \n\n                                              listed_in  \\\n0     International TV Shows, TV Dramas, TV Sci-Fi &...   \n1                          Dramas, International Movies   \n2                   Horror Movies, International Movies   \n3     Action & Adventure, Independent Movies, Sci-Fi...   \n4                                                Dramas   \n...                                                 ...   \n7782                       Dramas, International Movies   \n7783     Dramas, International Movies, Music & Musicals   \n7784  Documentaries, International Movies, Music & M...   \n7785                 International TV Shows, Reality TV   \n7786                    Documentaries, Music & Musicals   \n\n                                            description   first_country  \n0     In a future where the elite inhabit an island ...          Brazil  \n1     After a devastating earthquake hits Mexico Cit...          Mexico  \n2     When an army recruit is found dead, his fellow...       Singapore  \n3     In a postapocalyptic world, rag-doll robots hi...   United States  \n4     A brilliant group of students become card-coun...   United States  \n...                                                 ...             ...  \n7782  When Lebanon's Civil War deprives Zozo of his ...          Sweden  \n7783  A scrappy but poor boy worms his way into a ty...           India  \n7784  In this documentary, South African rapper Nast...   United States  \n7785  Dessert wizard Adriano Zumbo looks for the nex...       Australia  \n7786  This documentary delves into the mystique behi...  United Kingdom  \n\n[7787 rows x 12 columns]",
      "text/html": "<div>\n<style scoped>\n    .dataframe tbody tr th:only-of-type {\n        vertical-align: middle;\n    }\n\n    .dataframe tbody tr th {\n        vertical-align: top;\n    }\n\n    .dataframe thead th {\n        text-align: right;\n    }\n</style>\n<table border=\"1\" class=\"dataframe\">\n  <thead>\n    <tr style=\"text-align: right;\">\n      <th></th>\n      <th>show_id</th>\n      <th>type</th>\n      <th>title</th>\n      <th>director</th>\n      <th>cast</th>\n      <th>country</th>\n      <th>date_added</th>\n      <th>release_year</th>\n      <th>duration</th>\n      <th>listed_in</th>\n      <th>description</th>\n      <th>first_country</th>\n    </tr>\n  </thead>\n  <tbody>\n    <tr>\n      <th>0</th>\n      <td>s1</td>\n      <td>TV Show</td>\n      <td>3%</td>\n      <td>No Data</td>\n      <td>João Miguel, Bianca Comparato, Michel Gomes, R...</td>\n      <td>Brazil</td>\n      <td>August 14, 2020</td>\n      <td>2020</td>\n      <td>4 Seasons</td>\n      <td>International TV Shows, TV Dramas, TV Sci-Fi &amp;...</td>\n      <td>In a future where the elite inhabit an island ...</td>\n      <td>Brazil</td>\n    </tr>\n    <tr>\n      <th>1</th>\n      <td>s2</td>\n      <td>Movie</td>\n      <td>7:19</td>\n      <td>Jorge Michel Grau</td>\n      <td>Demián Bichir, Héctor Bonilla, Oscar Serrano, ...</td>\n      <td>Mexico</td>\n      <td>December 23, 2016</td>\n      <td>2016</td>\n      <td>93 min</td>\n      <td>Dramas, International Movies</td>\n      <td>After a devastating earthquake hits Mexico Cit...</td>\n      <td>Mexico</td>\n    </tr>\n    <tr>\n      <th>2</th>\n      <td>s3</td>\n      <td>Movie</td>\n      <td>23:59</td>\n      <td>Gilbert Chan</td>\n      <td>Tedd Chan, Stella Chung, Henley Hii, Lawrence ...</td>\n      <td>Singapore</td>\n      <td>December 20, 2018</td>\n      <td>2011</td>\n      <td>78 min</td>\n      <td>Horror Movies, International Movies</td>\n      <td>When an army recruit is found dead, his fellow...</td>\n      <td>Singapore</td>\n    </tr>\n    <tr>\n      <th>3</th>\n      <td>s4</td>\n      <td>Movie</td>\n      <td>9</td>\n      <td>Shane Acker</td>\n      <td>Elijah Wood, John C. Reilly, Jennifer Connelly...</td>\n      <td>United States</td>\n      <td>November 16, 2017</td>\n      <td>2009</td>\n      <td>80 min</td>\n      <td>Action &amp; Adventure, Independent Movies, Sci-Fi...</td>\n      <td>In a postapocalyptic world, rag-doll robots hi...</td>\n      <td>United States</td>\n    </tr>\n    <tr>\n      <th>4</th>\n      <td>s5</td>\n      <td>Movie</td>\n      <td>21</td>\n      <td>Robert Luketic</td>\n      <td>Jim Sturgess, Kevin Spacey, Kate Bosworth, Aar...</td>\n      <td>United States</td>\n      <td>January 1, 2020</td>\n      <td>2008</td>\n      <td>123 min</td>\n      <td>Dramas</td>\n      <td>A brilliant group of students become card-coun...</td>\n      <td>United States</td>\n    </tr>\n    <tr>\n      <th>...</th>\n      <td>...</td>\n      <td>...</td>\n      <td>...</td>\n      <td>...</td>\n      <td>...</td>\n      <td>...</td>\n      <td>...</td>\n      <td>...</td>\n      <td>...</td>\n      <td>...</td>\n      <td>...</td>\n      <td>...</td>\n    </tr>\n    <tr>\n      <th>7782</th>\n      <td>s7783</td>\n      <td>Movie</td>\n      <td>Zozo</td>\n      <td>Josef Fares</td>\n      <td>Imad Creidi, Antoinette Turk, Elias Gergi, Car...</td>\n      <td>Sweden, Czech Republic, United Kingdom, Denmar...</td>\n      <td>October 19, 2020</td>\n      <td>2005</td>\n      <td>99 min</td>\n      <td>Dramas, International Movies</td>\n      <td>When Lebanon's Civil War deprives Zozo of his ...</td>\n      <td>Sweden</td>\n    </tr>\n    <tr>\n      <th>7783</th>\n      <td>s7784</td>\n      <td>Movie</td>\n      <td>Zubaan</td>\n      <td>Mozez Singh</td>\n      <td>Vicky Kaushal, Sarah-Jane Dias, Raaghav Chanan...</td>\n      <td>India</td>\n      <td>March 2, 2019</td>\n      <td>2015</td>\n      <td>111 min</td>\n      <td>Dramas, International Movies, Music &amp; Musicals</td>\n      <td>A scrappy but poor boy worms his way into a ty...</td>\n      <td>India</td>\n    </tr>\n    <tr>\n      <th>7784</th>\n      <td>s7785</td>\n      <td>Movie</td>\n      <td>Zulu Man in Japan</td>\n      <td>No Data</td>\n      <td>Nasty C</td>\n      <td>United States</td>\n      <td>September 25, 2020</td>\n      <td>2019</td>\n      <td>44 min</td>\n      <td>Documentaries, International Movies, Music &amp; M...</td>\n      <td>In this documentary, South African rapper Nast...</td>\n      <td>United States</td>\n    </tr>\n    <tr>\n      <th>7785</th>\n      <td>s7786</td>\n      <td>TV Show</td>\n      <td>Zumbo's Just Desserts</td>\n      <td>No Data</td>\n      <td>Adriano Zumbo, Rachel Khoo</td>\n      <td>Australia</td>\n      <td>October 31, 2020</td>\n      <td>2019</td>\n      <td>1 Season</td>\n      <td>International TV Shows, Reality TV</td>\n      <td>Dessert wizard Adriano Zumbo looks for the nex...</td>\n      <td>Australia</td>\n    </tr>\n    <tr>\n      <th>7786</th>\n      <td>s7787</td>\n      <td>Movie</td>\n      <td>ZZ TOP: THAT LITTLE OL' BAND FROM TEXAS</td>\n      <td>Sam Dunn</td>\n      <td>No Data</td>\n      <td>United Kingdom, Canada, United States</td>\n      <td>March 1, 2020</td>\n      <td>2019</td>\n      <td>90 min</td>\n      <td>Documentaries, Music &amp; Musicals</td>\n      <td>This documentary delves into the mystique behi...</td>\n      <td>United Kingdom</td>\n    </tr>\n  </tbody>\n</table>\n<p>7787 rows × 12 columns</p>\n</div>"
     },
     "execution_count": 44,
     "metadata": {},
     "output_type": "execute_result"
    }
   ],
   "source": [
    "#YOUR CODE HERE\n",
    "netflix_data['first_country'] = netflix_data['country'].str.split(', ').str[0]\n",
    "\n",
    "netflix_data"
   ]
  },
  {
   "cell_type": "markdown",
   "metadata": {},
   "source": [
    "<b><font color='#8B0000'>TASK</font></b>\n",
    "\n",
    "Replace the name of the countries in the 'first_country' column as follows:\n",
    "\n",
    "- United States --> USA\n",
    "\n",
    "- United Kingdom --> UK\n",
    "\n",
    "- South Korea --> S. Korea\n"
   ]
  },
  {
   "cell_type": "code",
   "execution_count": 45,
   "metadata": {
    "ExecuteTime": {
     "end_time": "2024-01-27T10:40:10.611695300Z",
     "start_time": "2024-01-27T10:40:09.831105Z"
    }
   },
   "outputs": [
    {
     "data": {
      "text/plain": "     show_id     type                                    title  \\\n0         s1  TV Show                                       3%   \n1         s2    Movie                                     7:19   \n2         s3    Movie                                    23:59   \n3         s4    Movie                                        9   \n4         s5    Movie                                       21   \n...      ...      ...                                      ...   \n7782   s7783    Movie                                     Zozo   \n7783   s7784    Movie                                   Zubaan   \n7784   s7785    Movie                        Zulu Man in Japan   \n7785   s7786  TV Show                    Zumbo's Just Desserts   \n7786   s7787    Movie  ZZ TOP: THAT LITTLE OL' BAND FROM TEXAS   \n\n               director                                               cast  \\\n0               No Data  João Miguel, Bianca Comparato, Michel Gomes, R...   \n1     Jorge Michel Grau  Demián Bichir, Héctor Bonilla, Oscar Serrano, ...   \n2          Gilbert Chan  Tedd Chan, Stella Chung, Henley Hii, Lawrence ...   \n3           Shane Acker  Elijah Wood, John C. Reilly, Jennifer Connelly...   \n4        Robert Luketic  Jim Sturgess, Kevin Spacey, Kate Bosworth, Aar...   \n...                 ...                                                ...   \n7782        Josef Fares  Imad Creidi, Antoinette Turk, Elias Gergi, Car...   \n7783        Mozez Singh  Vicky Kaushal, Sarah-Jane Dias, Raaghav Chanan...   \n7784            No Data                                            Nasty C   \n7785            No Data                         Adriano Zumbo, Rachel Khoo   \n7786           Sam Dunn                                            No Data   \n\n                                                country          date_added  \\\n0                                                Brazil     August 14, 2020   \n1                                                Mexico   December 23, 2016   \n2                                             Singapore   December 20, 2018   \n3                                         United States   November 16, 2017   \n4                                         United States     January 1, 2020   \n...                                                 ...                 ...   \n7782  Sweden, Czech Republic, United Kingdom, Denmar...    October 19, 2020   \n7783                                              India       March 2, 2019   \n7784                                      United States  September 25, 2020   \n7785                                          Australia    October 31, 2020   \n7786              United Kingdom, Canada, United States       March 1, 2020   \n\n      release_year   duration  \\\n0             2020  4 Seasons   \n1             2016     93 min   \n2             2011     78 min   \n3             2009     80 min   \n4             2008    123 min   \n...            ...        ...   \n7782          2005     99 min   \n7783          2015    111 min   \n7784          2019     44 min   \n7785          2019   1 Season   \n7786          2019     90 min   \n\n                                              listed_in  \\\n0     International TV Shows, TV Dramas, TV Sci-Fi &...   \n1                          Dramas, International Movies   \n2                   Horror Movies, International Movies   \n3     Action & Adventure, Independent Movies, Sci-Fi...   \n4                                                Dramas   \n...                                                 ...   \n7782                       Dramas, International Movies   \n7783     Dramas, International Movies, Music & Musicals   \n7784  Documentaries, International Movies, Music & M...   \n7785                 International TV Shows, Reality TV   \n7786                    Documentaries, Music & Musicals   \n\n                                            description first_country  \n0     In a future where the elite inhabit an island ...        Brazil  \n1     After a devastating earthquake hits Mexico Cit...        Mexico  \n2     When an army recruit is found dead, his fellow...     Singapore  \n3     In a postapocalyptic world, rag-doll robots hi...           USA  \n4     A brilliant group of students become card-coun...           USA  \n...                                                 ...           ...  \n7782  When Lebanon's Civil War deprives Zozo of his ...        Sweden  \n7783  A scrappy but poor boy worms his way into a ty...         India  \n7784  In this documentary, South African rapper Nast...           USA  \n7785  Dessert wizard Adriano Zumbo looks for the nex...     Australia  \n7786  This documentary delves into the mystique behi...            UK  \n\n[7787 rows x 12 columns]",
      "text/html": "<div>\n<style scoped>\n    .dataframe tbody tr th:only-of-type {\n        vertical-align: middle;\n    }\n\n    .dataframe tbody tr th {\n        vertical-align: top;\n    }\n\n    .dataframe thead th {\n        text-align: right;\n    }\n</style>\n<table border=\"1\" class=\"dataframe\">\n  <thead>\n    <tr style=\"text-align: right;\">\n      <th></th>\n      <th>show_id</th>\n      <th>type</th>\n      <th>title</th>\n      <th>director</th>\n      <th>cast</th>\n      <th>country</th>\n      <th>date_added</th>\n      <th>release_year</th>\n      <th>duration</th>\n      <th>listed_in</th>\n      <th>description</th>\n      <th>first_country</th>\n    </tr>\n  </thead>\n  <tbody>\n    <tr>\n      <th>0</th>\n      <td>s1</td>\n      <td>TV Show</td>\n      <td>3%</td>\n      <td>No Data</td>\n      <td>João Miguel, Bianca Comparato, Michel Gomes, R...</td>\n      <td>Brazil</td>\n      <td>August 14, 2020</td>\n      <td>2020</td>\n      <td>4 Seasons</td>\n      <td>International TV Shows, TV Dramas, TV Sci-Fi &amp;...</td>\n      <td>In a future where the elite inhabit an island ...</td>\n      <td>Brazil</td>\n    </tr>\n    <tr>\n      <th>1</th>\n      <td>s2</td>\n      <td>Movie</td>\n      <td>7:19</td>\n      <td>Jorge Michel Grau</td>\n      <td>Demián Bichir, Héctor Bonilla, Oscar Serrano, ...</td>\n      <td>Mexico</td>\n      <td>December 23, 2016</td>\n      <td>2016</td>\n      <td>93 min</td>\n      <td>Dramas, International Movies</td>\n      <td>After a devastating earthquake hits Mexico Cit...</td>\n      <td>Mexico</td>\n    </tr>\n    <tr>\n      <th>2</th>\n      <td>s3</td>\n      <td>Movie</td>\n      <td>23:59</td>\n      <td>Gilbert Chan</td>\n      <td>Tedd Chan, Stella Chung, Henley Hii, Lawrence ...</td>\n      <td>Singapore</td>\n      <td>December 20, 2018</td>\n      <td>2011</td>\n      <td>78 min</td>\n      <td>Horror Movies, International Movies</td>\n      <td>When an army recruit is found dead, his fellow...</td>\n      <td>Singapore</td>\n    </tr>\n    <tr>\n      <th>3</th>\n      <td>s4</td>\n      <td>Movie</td>\n      <td>9</td>\n      <td>Shane Acker</td>\n      <td>Elijah Wood, John C. Reilly, Jennifer Connelly...</td>\n      <td>United States</td>\n      <td>November 16, 2017</td>\n      <td>2009</td>\n      <td>80 min</td>\n      <td>Action &amp; Adventure, Independent Movies, Sci-Fi...</td>\n      <td>In a postapocalyptic world, rag-doll robots hi...</td>\n      <td>USA</td>\n    </tr>\n    <tr>\n      <th>4</th>\n      <td>s5</td>\n      <td>Movie</td>\n      <td>21</td>\n      <td>Robert Luketic</td>\n      <td>Jim Sturgess, Kevin Spacey, Kate Bosworth, Aar...</td>\n      <td>United States</td>\n      <td>January 1, 2020</td>\n      <td>2008</td>\n      <td>123 min</td>\n      <td>Dramas</td>\n      <td>A brilliant group of students become card-coun...</td>\n      <td>USA</td>\n    </tr>\n    <tr>\n      <th>...</th>\n      <td>...</td>\n      <td>...</td>\n      <td>...</td>\n      <td>...</td>\n      <td>...</td>\n      <td>...</td>\n      <td>...</td>\n      <td>...</td>\n      <td>...</td>\n      <td>...</td>\n      <td>...</td>\n      <td>...</td>\n    </tr>\n    <tr>\n      <th>7782</th>\n      <td>s7783</td>\n      <td>Movie</td>\n      <td>Zozo</td>\n      <td>Josef Fares</td>\n      <td>Imad Creidi, Antoinette Turk, Elias Gergi, Car...</td>\n      <td>Sweden, Czech Republic, United Kingdom, Denmar...</td>\n      <td>October 19, 2020</td>\n      <td>2005</td>\n      <td>99 min</td>\n      <td>Dramas, International Movies</td>\n      <td>When Lebanon's Civil War deprives Zozo of his ...</td>\n      <td>Sweden</td>\n    </tr>\n    <tr>\n      <th>7783</th>\n      <td>s7784</td>\n      <td>Movie</td>\n      <td>Zubaan</td>\n      <td>Mozez Singh</td>\n      <td>Vicky Kaushal, Sarah-Jane Dias, Raaghav Chanan...</td>\n      <td>India</td>\n      <td>March 2, 2019</td>\n      <td>2015</td>\n      <td>111 min</td>\n      <td>Dramas, International Movies, Music &amp; Musicals</td>\n      <td>A scrappy but poor boy worms his way into a ty...</td>\n      <td>India</td>\n    </tr>\n    <tr>\n      <th>7784</th>\n      <td>s7785</td>\n      <td>Movie</td>\n      <td>Zulu Man in Japan</td>\n      <td>No Data</td>\n      <td>Nasty C</td>\n      <td>United States</td>\n      <td>September 25, 2020</td>\n      <td>2019</td>\n      <td>44 min</td>\n      <td>Documentaries, International Movies, Music &amp; M...</td>\n      <td>In this documentary, South African rapper Nast...</td>\n      <td>USA</td>\n    </tr>\n    <tr>\n      <th>7785</th>\n      <td>s7786</td>\n      <td>TV Show</td>\n      <td>Zumbo's Just Desserts</td>\n      <td>No Data</td>\n      <td>Adriano Zumbo, Rachel Khoo</td>\n      <td>Australia</td>\n      <td>October 31, 2020</td>\n      <td>2019</td>\n      <td>1 Season</td>\n      <td>International TV Shows, Reality TV</td>\n      <td>Dessert wizard Adriano Zumbo looks for the nex...</td>\n      <td>Australia</td>\n    </tr>\n    <tr>\n      <th>7786</th>\n      <td>s7787</td>\n      <td>Movie</td>\n      <td>ZZ TOP: THAT LITTLE OL' BAND FROM TEXAS</td>\n      <td>Sam Dunn</td>\n      <td>No Data</td>\n      <td>United Kingdom, Canada, United States</td>\n      <td>March 1, 2020</td>\n      <td>2019</td>\n      <td>90 min</td>\n      <td>Documentaries, Music &amp; Musicals</td>\n      <td>This documentary delves into the mystique behi...</td>\n      <td>UK</td>\n    </tr>\n  </tbody>\n</table>\n<p>7787 rows × 12 columns</p>\n</div>"
     },
     "execution_count": 45,
     "metadata": {},
     "output_type": "execute_result"
    }
   ],
   "source": [
    "#YOUR CODE HERE\n",
    "countries_rename = {\n",
    "    'United States': 'USA',\n",
    "    'United Kingdom': 'UK',\n",
    "    'South Korea': 'S. Korea'\n",
    "}\n",
    "\n",
    "netflix_data['first_country'] = netflix_data['first_country'].replace(countries_rename)\n",
    "\n",
    "netflix_data"
   ]
  },
  {
   "cell_type": "markdown",
   "metadata": {
    "papermill": {
     "duration": 0.036705,
     "end_time": "2021-04-01T06:48:16.585232",
     "exception": false,
     "start_time": "2021-04-01T06:48:16.548527",
     "status": "completed"
    },
    "slideshow": {
     "slide_type": "slide"
    },
    "tags": []
   },
   "source": [
    "## Visualizations"
   ]
  },
  {
   "cell_type": "markdown",
   "metadata": {},
   "source": [
    "<b><font color='#8B0000'>TASK</font></b>\n",
    "\n",
    "Create a new dataframe, called **\"mt_ratio\"**. It should contain **1 row** and **2 columns**. \n",
    "\n",
    "The dataframe should contain the ratio of the different types of content to all available content on Netlix. \n",
    "\n",
    "For example, if 81% of the content on Netflix is represented by movies, you should have a column with the type Movie and 0.81 content ratio.\n",
    "\n",
    "**Tip**: There is a column in the dataframe which designates the type of the content."
   ]
  },
  {
   "cell_type": "markdown",
   "source": [],
   "metadata": {
    "collapsed": false
   }
  },
  {
   "cell_type": "markdown",
   "source": [
    "<font color='#3aa832'>We are observing that, based on the data we have, there are almost twice as many Movies created as TV Shows</font>"
   ],
   "metadata": {
    "collapsed": false
   }
  },
  {
   "cell_type": "code",
   "execution_count": 46,
   "metadata": {
    "execution": {
     "iopub.execute_input": "2021-04-01T06:48:17.587344Z",
     "iopub.status.busy": "2021-04-01T06:48:17.586618Z",
     "iopub.status.idle": "2021-04-01T06:48:17.598484Z",
     "shell.execute_reply": "2021-04-01T06:48:17.598982Z"
    },
    "papermill": {
     "duration": 0.066841,
     "end_time": "2021-04-01T06:48:17.599199",
     "exception": false,
     "start_time": "2021-04-01T06:48:17.532358",
     "status": "completed"
    },
    "slideshow": {
     "slide_type": "skip"
    },
    "tags": [],
    "ExecuteTime": {
     "end_time": "2024-01-27T10:40:10.653699300Z",
     "start_time": "2024-01-27T10:40:09.852124300Z"
    }
   },
   "outputs": [
    {
     "data": {
      "text/plain": "type   Movie  TV Show\ncount   0.69     0.31",
      "text/html": "<div>\n<style scoped>\n    .dataframe tbody tr th:only-of-type {\n        vertical-align: middle;\n    }\n\n    .dataframe tbody tr th {\n        vertical-align: top;\n    }\n\n    .dataframe thead th {\n        text-align: right;\n    }\n</style>\n<table border=\"1\" class=\"dataframe\">\n  <thead>\n    <tr style=\"text-align: right;\">\n      <th>type</th>\n      <th>Movie</th>\n      <th>TV Show</th>\n    </tr>\n  </thead>\n  <tbody>\n    <tr>\n      <th>count</th>\n      <td>0.69</td>\n      <td>0.31</td>\n    </tr>\n  </tbody>\n</table>\n</div>"
     },
     "execution_count": 46,
     "metadata": {},
     "output_type": "execute_result"
    }
   ],
   "source": [
    "#YOUR CODE HERE\n",
    "mt_ratio = (netflix_data['type'].value_counts() / netflix_data['type'].count()).to_frame().transpose().round(2)\n",
    "mt_ratio"
   ]
  },
  {
   "cell_type": "markdown",
   "metadata": {},
   "source": [
    "<b><font color='#8B0000'>TASK</font></b>\n",
    "\n",
    "Create a **horizontal bar plot** which presents the relative share of the different types of content on Netflix (Movies and TV Series).\n",
    "\n",
    "***REQUIREMENTS:***\n",
    "- figure DPI should be **140**\n",
    " - figure size should be **(6.5, 2.5)**\n",
    " - use `#b20710` color for Movies, and `#221f1f` for TV Series\n",
    " - figure title should be **'Relative share of types of content on Netflix'**\n",
    " - create a figure **legend** in the **upper right** corner of the figure\n",
    " - no axis"
   ]
  },
  {
   "cell_type": "code",
   "execution_count": 47,
   "metadata": {
    "ExecuteTime": {
     "end_time": "2024-01-27T10:40:10.733251100Z",
     "start_time": "2024-01-27T10:40:09.864906300Z"
    }
   },
   "outputs": [
    {
     "data": {
      "text/plain": "<Figure size 910x350 with 1 Axes>",
      "image/png": "[encoded data removed]"
     },
     "metadata": {},
     "output_type": "display_data"
    }
   ],
   "source": [
    "#YOUR CODE HERE\n",
    "plt.figure(figsize=(6.5, 2.5), dpi=140)\n",
    "colors_map = {\n",
    "    'Movie': '#b20710',\n",
    "    'TV Show': '#221f1f'\n",
    "}\n",
    "ax = mt_ratio.plot(kind='barh', color=[colors_map.get(x) for x in mt_ratio.columns], legend=True, ax=plt.gca())\n",
    "plt.title('Relative share of types of content on Netflix')\n",
    "plt.legend(loc='upper right')\n",
    "ax.axis('off')\n",
    "\n",
    "plt.show()"
   ]
  },
  {
   "cell_type": "code",
   "execution_count": 48,
   "metadata": {
    "ExecuteTime": {
     "end_time": "2024-01-27T10:40:10.733251100Z",
     "start_time": "2024-01-27T10:40:09.954624Z"
    }
   },
   "outputs": [
    {
     "name": "stdout",
     "output_type": "stream",
     "text": [
      "Helper cell was run. Continue!\n"
     ]
    }
   ],
   "source": [
    "#HELPER CELL - RUN IT!\n",
    "netflix_data['count'] = 1\n",
    "print('Helper cell was run. Continue!')"
   ]
  },
  {
   "cell_type": "markdown",
   "metadata": {},
   "source": [
    "<b><font color='#8B0000'>TASK</font></b>\n",
    "\n",
    "Create a variable called **'top_10_countries'** which stores the top 10 countries by count of content they add."
   ]
  },
  {
   "cell_type": "code",
   "execution_count": 49,
   "metadata": {
    "ExecuteTime": {
     "end_time": "2024-01-27T10:40:10.734242900Z",
     "start_time": "2024-01-27T10:40:09.968334200Z"
    }
   },
   "outputs": [
    {
     "data": {
      "text/plain": "first_country\nUSA          3389\nIndia         956\nUK            576\nCanada        259\nJapan         237\nFrance        196\nS. Korea      194\nSpain         168\nMexico        123\nAustralia     108\nName: count, dtype: int64"
     },
     "execution_count": 49,
     "metadata": {},
     "output_type": "execute_result"
    }
   ],
   "source": [
    "#YOUR CODE HERE\n",
    "top_10_countries = netflix_data['first_country'].value_counts().head(10)\n",
    "top_10_countries"
   ]
  },
  {
   "cell_type": "markdown",
   "metadata": {},
   "source": [
    "<b><font color='#8B0000'>TASK</font></b>\n",
    "\n",
    "Create a **vertical bar plot** which presents the top 10 countries by content.\n",
    "\n",
    "***REQUIREMENTS:***\n",
    "\n",
    "\n",
    "- figure size should be **(12, 5)**\n",
    "- bar width must be **0.5**\n",
    "- linewidth should be **0.6**,\n",
    "- top 3 bars must be **colored** with `#b20710`,\n",
    "- the other bars must be colored with `#f5f5f1`,\n",
    "- y axis should be named **'Number of contributions'**\n",
    "- figure title should be **'Top 10 contributors of content'**"
   ]
  },
  {
   "cell_type": "markdown",
   "source": [
    "<font color='#3aa832'>In this visualization, we observe that the country producing the most Movies is 'United States', outpacing the next two countries by about twice</font>"
   ],
   "metadata": {
    "collapsed": false
   }
  },
  {
   "cell_type": "code",
   "execution_count": 50,
   "metadata": {
    "ExecuteTime": {
     "end_time": "2024-01-27T10:40:10.734242900Z",
     "start_time": "2024-01-27T10:40:09.976281600Z"
    }
   },
   "outputs": [],
   "source": [
    "#YOUR CODE HERE\n",
    "color_map = ['#b20710' if i < 3 else '#f5f5f1' for i in range(10)]"
   ]
  },
  {
   "cell_type": "code",
   "execution_count": 51,
   "outputs": [
    {
     "data": {
      "text/plain": "<Figure size 1200x500 with 1 Axes>",
      "image/png": "[encoded data removed]"
     },
     "metadata": {},
     "output_type": "display_data"
    }
   ],
   "source": [
    "plt.figure(figsize=(12, 5))\n",
    "plt.bar(top_10_countries.index.values, top_10_countries.values, color=color_map, width=0.5, linewidth=0.6)\n",
    "plt.title('Top 10 contributors of content')\n",
    "plt.ylabel('Number of contributions')\n",
    "plt.show()"
   ],
   "metadata": {
    "collapsed": false,
    "ExecuteTime": {
     "end_time": "2024-01-27T10:40:10.762233600Z",
     "start_time": "2024-01-27T10:40:09.983153800Z"
    }
   }
  },
  {
   "cell_type": "code",
   "execution_count": 52,
   "metadata": {
    "ExecuteTime": {
     "end_time": "2024-01-27T10:40:10.765236Z",
     "start_time": "2024-01-27T10:40:10.167925400Z"
    }
   },
   "outputs": [
    {
     "name": "stdout",
     "output_type": "stream",
     "text": [
      "Helper cell was run. Continue!\n"
     ]
    }
   ],
   "source": [
    "#HELPER CELL - RUN IT!\n",
    "netflix_data[\"date_added\"] = pd.to_datetime(netflix_data['date_added'], format=\"mixed\")\n",
    "netflix_data['year_added'] = netflix_data['date_added'].dt.year\n",
    "print('Helper cell was run. Continue!')"
   ]
  },
  {
   "cell_type": "markdown",
   "metadata": {},
   "source": [
    "<b><font color='#8B0000'>TASK</font></b>\n",
    "\n",
    "The helper cell above create new columns which you can use to create a line plot.\n",
    "\n",
    "Create a **line plot** which presents the content added on Netflix throughout the years.\n",
    "\n",
    "***REQUIREMENTS:***\n",
    "\n",
    "\n",
    "- figure size should be **(12, 5)**\n",
    "- Movie line should be **colored** with `#b20710`,\n",
    "- TV Show line must be **colored** with `#221f1f\"`,\n",
    "- y axis should be named **'Number of contributions'**\n",
    "- figure title should be **'Contributions throughout the years'**\n",
    "- area below every line should be **filled** with the respective color"
   ]
  },
  {
   "cell_type": "markdown",
   "source": [
    "<font color='#3aa832'>From the Graph, we see that content creation began to increase rapidly after 2015, peaking in 2019. The relative share of Movies to TV Shows in 2019 is double in favor of Movies, which could suggest that people have less time for video Content or the quality of TV Shows has declined. After 2019, the production of content sharply decreased in both categories.</font>"
   ],
   "metadata": {
    "collapsed": false
   }
  },
  {
   "cell_type": "code",
   "execution_count": 53,
   "metadata": {
    "ExecuteTime": {
     "end_time": "2024-01-27T10:40:10.767241900Z",
     "start_time": "2024-01-27T10:40:10.316078600Z"
    }
   },
   "outputs": [
    {
     "data": {
      "text/plain": "type         Movie  TV Show\nyear_added                 \n2008.0         1.0      1.0\n2009.0         2.0      NaN\n2010.0         1.0      NaN\n2011.0        13.0      NaN\n2012.0         3.0      NaN\n2013.0         6.0      5.0\n2014.0        19.0      6.0\n2015.0        58.0     30.0\n2016.0       258.0    185.0\n2017.0       864.0    361.0\n2018.0      1255.0    430.0\n2019.0      1497.0    656.0\n2020.0      1312.0    697.0\n2021.0        88.0     29.0",
      "text/html": "<div>\n<style scoped>\n    .dataframe tbody tr th:only-of-type {\n        vertical-align: middle;\n    }\n\n    .dataframe tbody tr th {\n        vertical-align: top;\n    }\n\n    .dataframe thead th {\n        text-align: right;\n    }\n</style>\n<table border=\"1\" class=\"dataframe\">\n  <thead>\n    <tr style=\"text-align: right;\">\n      <th>type</th>\n      <th>Movie</th>\n      <th>TV Show</th>\n    </tr>\n    <tr>\n      <th>year_added</th>\n      <th></th>\n      <th></th>\n    </tr>\n  </thead>\n  <tbody>\n    <tr>\n      <th>2008.0</th>\n      <td>1.0</td>\n      <td>1.0</td>\n    </tr>\n    <tr>\n      <th>2009.0</th>\n      <td>2.0</td>\n      <td>NaN</td>\n    </tr>\n    <tr>\n      <th>2010.0</th>\n      <td>1.0</td>\n      <td>NaN</td>\n    </tr>\n    <tr>\n      <th>2011.0</th>\n      <td>13.0</td>\n      <td>NaN</td>\n    </tr>\n    <tr>\n      <th>2012.0</th>\n      <td>3.0</td>\n      <td>NaN</td>\n    </tr>\n    <tr>\n      <th>2013.0</th>\n      <td>6.0</td>\n      <td>5.0</td>\n    </tr>\n    <tr>\n      <th>2014.0</th>\n      <td>19.0</td>\n      <td>6.0</td>\n    </tr>\n    <tr>\n      <th>2015.0</th>\n      <td>58.0</td>\n      <td>30.0</td>\n    </tr>\n    <tr>\n      <th>2016.0</th>\n      <td>258.0</td>\n      <td>185.0</td>\n    </tr>\n    <tr>\n      <th>2017.0</th>\n      <td>864.0</td>\n      <td>361.0</td>\n    </tr>\n    <tr>\n      <th>2018.0</th>\n      <td>1255.0</td>\n      <td>430.0</td>\n    </tr>\n    <tr>\n      <th>2019.0</th>\n      <td>1497.0</td>\n      <td>656.0</td>\n    </tr>\n    <tr>\n      <th>2020.0</th>\n      <td>1312.0</td>\n      <td>697.0</td>\n    </tr>\n    <tr>\n      <th>2021.0</th>\n      <td>88.0</td>\n      <td>29.0</td>\n    </tr>\n  </tbody>\n</table>\n</div>"
     },
     "execution_count": 53,
     "metadata": {},
     "output_type": "execute_result"
    }
   ],
   "source": [
    "#YOUR CODE HERE\n",
    "content_added_throughout_years = netflix_data.groupby(['year_added', 'type']).size().unstack()\n",
    "content_added_throughout_years"
   ]
  },
  {
   "cell_type": "code",
   "execution_count": 54,
   "outputs": [
    {
     "data": {
      "text/plain": "<Figure size 1200x500 with 1 Axes>",
      "image/png": "[encoded data removed]"
     },
     "metadata": {},
     "output_type": "display_data"
    }
   ],
   "source": [
    "plt.figure(figsize=(12, 5))\n",
    "\n",
    "plt.plot(content_added_throughout_years.index, content_added_throughout_years['Movie'], color='#b20710', label='Movie')\n",
    "plt.fill_between(content_added_throughout_years.index, content_added_throughout_years['Movie'], color='#b20710')\n",
    "\n",
    "plt.plot(content_added_throughout_years.index, content_added_throughout_years['TV Show'], color='#221f1f',\n",
    "         label='TV Show')\n",
    "plt.fill_between(content_added_throughout_years.index, content_added_throughout_years['TV Show'], color='#221f1f')\n",
    "\n",
    "plt.title('Contributions throughout the years')\n",
    "plt.ylabel('Number of contributions')\n",
    "\n",
    "plt.legend()\n",
    "\n",
    "plt.show()"
   ],
   "metadata": {
    "collapsed": false,
    "ExecuteTime": {
     "end_time": "2024-01-27T10:40:11.298442100Z",
     "start_time": "2024-01-27T10:40:10.336208900Z"
    }
   }
  },
  {
   "cell_type": "markdown",
   "metadata": {},
   "source": [
    "# PART TWO - WORKING WITH TEXT"
   ]
  },
  {
   "cell_type": "markdown",
   "metadata": {},
   "source": [
    "Underneath you will find raw text which you should format according to the given final version of the text. Please, input your final, formatted text, in the last cell of the notebook denoted with the comment _#YOUR FINAL TEXT HERE_."
   ]
  },
  {
   "cell_type": "markdown",
   "metadata": {},
   "source": [
    "### Raw text"
   ]
  },
  {
   "cell_type": "markdown",
   "metadata": {},
   "source": [
    "Netflix is an American subscription video on-demand streaming service owned and operated by Netflix, Inc. The service primarily distributes films and television series. It is available internationally in multiple languages. Netflix was launched on January 16, 2007, nearly a decade after Netflix, Inc. began its DVD-by-mail service. With 238.39 million paid memberships in more than 190 countries, it is the most-subscribed video on demand streaming service. By 2022, original productions accounted for half of Netflix's library in the United States, and the company had ventured into other categories, such as video game publishing via the Netflix service. More on Netflix game here (insert the following hyperlink https://help.netflix.com/en/node/121442)."
   ]
  },
  {
   "cell_type": "markdown",
   "metadata": {},
   "source": [
    "### Final text - example"
   ]
  },
  {
   "attachments": {
    "%D0%95%D0%BA%D1%80%D0%B0%D0%BD%D0%BD%D0%B0%20%D1%81%D0%BD%D0%B8%D0%BC%D0%BA%D0%B0%202023-12-28%20101530.png": {
     "image/png": "[encoded data removed]"
    }
   },
   "cell_type": "markdown",
   "metadata": {},
   "source": [
    "![final_text_example.png](final_text_example.png)"
   ]
  },
  {
   "cell_type": "markdown",
   "source": [
    "Netflix is an American subscription video on-demand streaming service owned and operated by *Netflix*, Inc. The service primarily distributes **films** and **television series**. It is available internationally in multiple languages. Netflix was launched on January 16, 2007, nearly a decade after Netflix, Inc. began its DVD-by-mail service. With 238.39 million paid memberships in <u>more than 190 countries</u>, it is the most-subscribed video on demand streaming service. By 2022, original productions accounted for half of Netflix's library in the United States, and the company had ventured into other categories, such as video game publishing via the Netflix service. More on Netflix game <u>[here](https://help.netflix.com/en/node/121442)</u>."
   ],
   "metadata": {
    "collapsed": false
   }
  }
 ],
 "metadata": {
  "kernelspec": {
   "display_name": "Python 3 (ipykernel)",
   "language": "python",
   "name": "python3"
  },
  "language_info": {
   "codemirror_mode": {
    "name": "ipython",
    "version": 3
   },
   "file_extension": ".py",
   "mimetype": "text/x-python",
   "name": "python",
   "nbconvert_exporter": "python",
   "pygments_lexer": "ipython3",
   "version": "3.11.2"
  },
  "papermill": {
   "default_parameters": {},
   "duration": 25.567508,
   "end_time": "2021-04-01T06:48:33.056801",
   "environment_variables": {},
   "exception": null,
   "input_path": "__notebook__.ipynb",
   "output_path": "__notebook__.ipynb",
   "parameters": {},
   "start_time": "2021-04-01T06:48:07.489293",
   "version": "2.2.2"
  }
 },
 "nbformat": 4,
 "nbformat_minor": 4
}
